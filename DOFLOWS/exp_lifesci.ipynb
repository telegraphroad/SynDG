{
 "cells": [
  {
   "cell_type": "code",
   "execution_count": 2,
   "metadata": {},
   "outputs": [],
   "source": [
    "import numpy as np\n",
    "import pandas as pd\n",
    "from scipy.stats import t\n",
    "import torch\n",
    "import numpy as np\n",
    "from matplotlib import gridspec\n",
    "import copy\n",
    "import normflows as nf\n",
    "\n",
    "from matplotlib import pyplot as plt\n",
    "from mpl_toolkits.mplot3d import Axes3D\n",
    "from matplotlib import cm\n",
    "import copy\n",
    "from tqdm import tqdm\n",
    "from torch.utils.data import Dataset, DataLoader\n",
    "import gc\n",
    "import sys\n",
    "\n",
    "from normflows.experiments.flowslib import planar, radial, nice, rnvp, nsp, iaf, residual\n",
    "\n",
    "import torch\n",
    "from torch.utils.data import Dataset\n",
    "from sklearn.preprocessing import LabelEncoder\n",
    "\n",
    "import torch\n",
    "from torch.utils.data import Dataset\n",
    "import pandas as pd\n",
    "from sklearn.preprocessing import LabelEncoder\n",
    "import seaborn as sns\n",
    "import torch\n",
    "from torch.utils.data import Dataset\n",
    "import pandas as pd\n",
    "from sklearn.preprocessing import LabelEncoder\n",
    "\n",
    "import pandas as pd\n",
    "import torch\n",
    "from sklearn.preprocessing import LabelEncoder\n",
    "from torch.utils.data import Dataset\n",
    "from torch.optim.lr_scheduler import ReduceLROnPlateau\n",
    "import pandas as pd\n",
    "import numpy as np\n",
    "from skbio import DistanceMatrix\n",
    "from skbio.stats.distance import permanova\n",
    "import gower\n",
    "import pandas as pd\n",
    "import numpy as np\n",
    "from scipy.stats import chi2_contingency, ks_2samp, mannwhitneyu\n",
    "from sklearn.model_selection import train_test_split\n",
    "from sklearn.linear_model import LogisticRegression\n",
    "from sklearn.metrics import roc_auc_score\n",
    "import pandas as pd\n",
    "import pandas as pd\n",
    "import numpy as np\n",
    "import gower\n",
    "from skbio.stats.distance import permanova\n",
    "from skbio import DistanceMatrix\n",
    "from sklearn.ensemble import GradientBoostingClassifier\n",
    "from torch.utils.data import DataLoader, TensorDataset, random_split\n",
    "from sklearn.preprocessing import MinMaxScaler\n",
    "from collections import Counter\n",
    "from fastDP import PrivacyEngine\n",
    "from opacus.accountants.utils import get_noise_multiplier\n",
    "from sklearn.model_selection import KFold\n",
    "\n",
    "import warnings\n",
    "warnings.filterwarnings(\"ignore\")"
   ]
  },
  {
   "cell_type": "code",
   "execution_count": 3,
   "metadata": {},
   "outputs": [],
   "source": [
    "from sklearn import model_selection, mixture, preprocessing, preprocessing\n",
    "\n",
    "class CSVDataset(Dataset):\n",
    "    def __init__(self, file_path, categorical_column_names, transform=None):\n",
    "        self.data = pd.read_csv(file_path,header=None)\n",
    "        # scaler = preprocessing.StandardScaler()\n",
    "        # self.data = pd.DataFrame(scaler.fit_transform(self.data))\n",
    "        \n",
    "        \n",
    "        self.transform = transform\n",
    "        self.label_encoders = {}\n",
    "        self.categorical_column_names = categorical_column_names\n",
    "        \n",
    "        # Encode the categorical columns\n",
    "        for column_name in self.categorical_column_names:\n",
    "            self.label_encoders[column_name] = LabelEncoder()\n",
    "            categorical_column = self.data[column_name].astype(float)\n",
    "            encoded_categorical_column = self.label_encoders[column_name].fit_transform(categorical_column)\n",
    "            self.data[column_name] = encoded_categorical_column\n",
    "    \n",
    "    def __len__(self):\n",
    "        return len(self.data)\n",
    "    \n",
    "    def __getitem__(self, index):\n",
    "        # Retrieve item at the given index\n",
    "        item = self.data.iloc[index]\n",
    "        \n",
    "        # Apply data transformation if provided\n",
    "        if self.transform:\n",
    "            item = self.transform(item)\n",
    "        \n",
    "        # Convert item to tensors if needed\n",
    "        item = torch.tensor(item).float()\n",
    "        \n",
    "        return item\n",
    "    \n",
    "    def calculate_feature_means(self):\n",
    "        category_means = []\n",
    "        \n",
    "        # Calculate means for each category\n",
    "        for column_name in self.data.columns:\n",
    "            category_means.append(self.data[[column_name]].mean().iloc[0])\n",
    "            \n",
    "        return category_means\n",
    "    \n",
    "def compute_average_grad_norm(model):\n",
    "    total_norm = 0.0\n",
    "    num_parameters = 0\n",
    "    for p in model.parameters():\n",
    "        if p.grad is not None:\n",
    "            param_norm = p.grad.data.norm(2)\n",
    "            total_norm += param_norm.item() ** 2\n",
    "            num_parameters += 1\n",
    "    return (total_norm / num_parameters) ** 0.5\n",
    "\n",
    "np.random.seed(42)\n",
    "\n",
    "\n",
    "#b = torch.Tensor([1 if i % 2 == 0 else 0 for i in [0]])\n",
    "\n",
    "#X = X.drop(['Class'],1)\n",
    "# from sklearn.preprocessing import MinMaxScaler\n",
    "# from collections import Counter\n",
    "\n",
    "# # Original dataset\n",
    "# from normflows.utils import data_utils\n",
    "\n",
    "# X = pd.read_csv('power.csv').drop(['Unnamed: 0'],axis=1)\n",
    "\n",
    "\n",
    "# xcol = X.columns\n",
    "# # for ii in range(len(categorical)):\n",
    "# #     X[X.columns[categorical[ii]]] = X[X.columns[categorical[ii]]] * lcm / categorical_qlevels[ii]\n",
    "# X=X.values\n",
    "# dataset = TensorDataset(torch.tensor(X, dtype=torch.float32))\n",
    "# num_samples = 2**9\n",
    "# train_loader = torch.utils.data.DataLoader(dataset, batch_size=num_samples,num_workers=4)\n",
    "# train_iter = iter(train_loader)\n",
    "latent_size = 10\n",
    "categorical = []\n",
    "categorical_qlevels = []\n",
    "catlevels = []\n",
    "lcm = 0\n",
    "vlayers = []\n",
    "#b = torch.Tensor([1 if i % 2 == 0 else 0 for i in [0]])\n",
    "\n",
    "#X = X.drop(['Class'],1)\n",
    "\n",
    "# Original dataset\n",
    "\n",
    "\n",
    "categorical = []"
   ]
  },
  {
   "cell_type": "code",
   "execution_count": 7,
   "metadata": {},
   "outputs": [
    {
     "name": "stderr",
     "output_type": "stream",
     "text": [
      "  0%|          | 0/300 [00:01<?, ?it/s]\n",
      "Processing 299, best loss=-17.155773162841797: 100%|██████████| 300/300 [08:59<00:00,  1.80s/it]\n",
      "Processing 299, best loss=-18.792633056640625: 100%|██████████| 300/300 [08:38<00:00,  1.73s/it]\n",
      "Processing 299, best loss=-19.883163452148438: 100%|██████████| 300/300 [07:25<00:00,  1.48s/it]\n",
      "Processing 299, best loss=-20.64246940612793: 100%|██████████| 300/300 [08:33<00:00,  1.71s/it] \n",
      "Processing 299, best loss=-21.155712127685547: 100%|██████████| 300/300 [08:28<00:00,  1.70s/it]\n",
      "Processing 299, best loss=-21.528684616088867: 100%|██████████| 300/300 [08:41<00:00,  1.74s/it]\n",
      "Processing 299, best loss=-22.11380386352539: 100%|██████████| 300/300 [08:41<00:00,  1.74s/it] \n",
      "Processing 299, best loss=-22.50870704650879: 100%|██████████| 300/300 [08:41<00:00,  1.74s/it] \n",
      "Processing 299, best loss=-22.729753494262695: 100%|██████████| 300/300 [08:41<00:00,  1.74s/it]\n",
      "Processing 299, best loss=-22.36243438720703: 100%|██████████| 300/300 [08:40<00:00,  1.74s/it] \n"
     ]
    },
    {
     "data": {
      "text/plain": [
       "0"
      ]
     },
     "execution_count": 7,
     "metadata": {},
     "output_type": "execute_result"
    }
   ],
   "source": [
    "# %%\n",
    "\n",
    "\n",
    "my_dataset = CSVDataset('/home/samiri/SynDG/DOFLOWS/lifesci.csv',categorical)\n",
    "\n",
    "categorical_qlevels = []\n",
    "vdeq_categoricals = {int(k): int(v) for k, v in zip(categorical, categorical_qlevels)}\n",
    "# Number of samples\n",
    "\n",
    "enable_cuda = True\n",
    "\n",
    "device = torch.device('cuda' if torch.cuda.is_available() and enable_cuda else 'cpu')\n",
    "\n",
    "n_sammple = my_dataset.__len__()\n",
    "# Create the 2-dimensional instance\n",
    "loss_arr = []\n",
    "tests_arr = []\n",
    "_closs = 1e10\n",
    "_stalecounter = 0\n",
    "\n",
    "nl = 40\n",
    "w = 256\n",
    "ml = 4\n",
    "lr = 5e-4\n",
    "fltyp = 'nice'\n",
    "rbst = True\n",
    "vlay = 0\n",
    "nsamp = 2048\n",
    "nmodes = 200\n",
    "rndadd = 0.5\n",
    "usestd = True\n",
    "useloc = True\n",
    "initp = 2.5\n",
    "batch_size = 2**10\n",
    "\n",
    "\n",
    "dp = 'NF'\n",
    "dp = None\n",
    "    # for w in list(reversed([64,128,192,256,378,512,768,1024,2048,4096,8192])):    \n",
    "_closs = 1e10\n",
    "torch.cuda.empty_cache()\n",
    "gc.collect()\n",
    "try:\n",
    "    del model, optimizer, flows, base\n",
    "except:\n",
    "    pass\n",
    "dataloader = DataLoader(my_dataset, batch_size=batch_size, shuffle=True)\n",
    "num_layers = nl\n",
    "flows = []\n",
    "latent_size = len(my_dataset.__getitem__(0))\n",
    "b = torch.Tensor([1 if i % 2 == 0 else 0 for i in range(latent_size)])\n",
    "flows = []\n",
    "if fltyp == 'nsp':\n",
    "    flows = nsp(K=nl,dim=latent_size, hidden_units=w, hidden_layers=ml)\n",
    "elif fltyp == 'rnvp':\n",
    "    flows = rnvp(K=nl,dim=latent_size, hidden_units=w, hidden_layers=ml)\n",
    "elif fltyp == 'residual':\n",
    "    flows = residual(K=nl,dim=latent_size, hidden_units=w, hidden_layers=ml)\n",
    "elif fltyp == 'nice':\n",
    "    flows = nice(K=nl,dim=latent_size, hidden_units=w, hidden_layers=ml)\n",
    "    \n",
    "\n",
    "trnbl = True\n",
    "# base = nf.distributions.base_extended.GeneralizedGaussianMixture(n_modes=nmodes, rand_p=True, noise_scale=rndadd, dim=latent_size,loc=list(my_dataset.data.median()) if useloc else 0.,scale=list(my_dataset.data.std()) if usestd else 1.,p=initp,device=device,trainable_loc=trnbl, trainable_scale=trnbl,trainable_p=trnbl,trainable_weights=trnbl,ds=my_dataset)\n",
    "\n",
    "#model = nf.NormalizingFlow(base, flows)\n",
    "loss_hists = np.array([])\n",
    "# optimizer = torch.optim.Adam(model.parameters(), lr=lr, weight_decay=lr/10)\n",
    "# scheduler = ReduceLROnPlateau(optimizer, mode='min', factor=0.5, patience=20, verbose=True)\n",
    "# target_epsilon = 1.0\n",
    "# if dp == 'DPSGD':\n",
    "#     sigma=get_noise_multiplier(\n",
    "#                     target_epsilon = target_epsilon,\n",
    "#                     target_delta = 1.52e-5,\n",
    "#                     sample_rate = batch_size/(len(dataloader.dataset)*0.9),\n",
    "#                     epochs = max_iter,\n",
    "#                 )\n",
    "\n",
    "#     privacy_engine = PrivacyEngine(\n",
    "#                 model,\n",
    "#                 batch_size=batch_size,\n",
    "#                 sample_size=len(dataloader.dataset)*0.9,\n",
    "#                 noise_multiplier=sigma,\n",
    "#                 epochs=max_iter,\n",
    "#                 clipping_mode='MixOpt',\n",
    "#                 origin_params=None,\n",
    "#             )\n",
    "#     privacy_engine.attach(optimizer)\n",
    "\n",
    "\n",
    "\n",
    "\n",
    "\n",
    "\n",
    "\n",
    "\n",
    "\n",
    "\n",
    "max_norm = 0.5\n",
    "adjust_rate = 0.01\n",
    "num_samples = nsamp\n",
    "show_iter = 200\n",
    "max_iter = 300\n",
    "bestloss = 1e10\n",
    "_stalecounter = 0\n",
    "pbar = tqdm(range(max_iter))\n",
    "# Prepare the data for KFold\n",
    "data = list(dataloader.dataset)\n",
    "kf = KFold(n_splits=10)\n",
    "\n",
    "# To store average log likelihood for each epoch\n",
    "avg_log_likelihoods = []\n",
    "loss_hists = []\n",
    "\n",
    "for train_index, test_index in kf.split(data):\n",
    "    # Reset the model and the best loss for each fold\n",
    "    base = nf.distributions.base.DiagGaussian(latent_size)\n",
    "    if dp == 'NF':\n",
    "        cmin = -10.01\n",
    "        cmax = 10.01    \n",
    "        \n",
    "        base = nf.distributions.base_extended.TruncatedNormal(latent_size,0.,1., cmin, cmax)\n",
    "        s = base.sample(10000)\n",
    "        pl = base.log_prob(s).exp()\n",
    "        print(f'final consumed budget in interval {[cmin,cmax]} is ', np.log(pl.max().item()/pl.min().item())*np.sqrt(max_iter))\n",
    "\n",
    "    model = nf.NormalizingFlow(base, flows,categoricals=vdeq_categoricals, vardeq_layers=vlay, vardeq_flow_type='shiftscale')\n",
    "    model = model.to(device)\n",
    "\n",
    "\n",
    "\n",
    "\n",
    "\n",
    "    loss_hist = np.array([])\n",
    "\n",
    "    log_likelihoods = []\n",
    "\n",
    "    optimizer = torch.optim.Adam(model.parameters(), lr=lr, weight_decay=lr/10)\n",
    "    scheduler = ReduceLROnPlateau(optimizer, mode='min', factor=0.5, patience=20, verbose=True)\n",
    "    target_epsilon = 1.0\n",
    "    if dp == 'DPSGD':\n",
    "        sigma=get_noise_multiplier(\n",
    "                        target_epsilon = target_epsilon,\n",
    "                        target_delta = 1.52e-5,\n",
    "                        sample_rate = batch_size/(len(dataloader.dataset)*0.9),\n",
    "                        epochs = max_iter,\n",
    "                    )\n",
    "\n",
    "        privacy_engine = PrivacyEngine(\n",
    "                    model,\n",
    "                    batch_size=batch_size,\n",
    "                    sample_size=len(dataloader.dataset)*0.9,\n",
    "                    noise_multiplier=sigma,\n",
    "                    epochs=max_iter,\n",
    "                    clipping_mode='MixOpt',\n",
    "                    origin_params=None,\n",
    "                )\n",
    "        privacy_engine.attach(optimizer)\n",
    "\n",
    "\n",
    "\n",
    "\n",
    "\n",
    "\n",
    "\n",
    "\n",
    "\n",
    "\n",
    "    max_norm = 0.5\n",
    "    adjust_rate = 0.01\n",
    "\n",
    "    best_params = copy.deepcopy(model.state_dict())\n",
    "    bestloss = 1e10\n",
    "    _stalecounter = 0\n",
    "    pbar = tqdm(range(max_iter))\n",
    "\n",
    "    \n",
    "    bestloss = float('inf')\n",
    "    best_params = copy.deepcopy(model.state_dict())\n",
    "\n",
    "    # Create dataloaders for this fold\n",
    "    train_data = [data[i] for i in train_index]\n",
    "    test_data = [data[i] for i in test_index]\n",
    "    train_dataloader = torch.utils.data.DataLoader(train_data, batch_size=batch_size)\n",
    "    test_dataloader = torch.utils.data.DataLoader(test_data, batch_size=batch_size)\n",
    "\n",
    "    for it in pbar:\n",
    "        for i, features in enumerate(train_dataloader, 0):\n",
    "            optimizer.zero_grad()\n",
    "            x = features.to(device)\n",
    "            try:\n",
    "                loss = model.forward_kld(x, robust=rbst,rmethod='med')    \n",
    "                if ~(torch.isnan(loss) | torch.isinf(loss)):\n",
    "                    loss.backward()\n",
    "                    optimizer.step()\n",
    "                    with torch.no_grad():\n",
    "                        if loss.item()<bestloss:\n",
    "                            _s,_ = model.sample(1000)\n",
    "                            if (torch.isnan(_s).sum()==0 & torch.isinf(_s).sum()==0):\n",
    "                            \n",
    "                                bestloss = copy.deepcopy(loss.item())\n",
    "                                best_params = copy.deepcopy(model.state_dict())\n",
    "                                pbar.set_description(f\"Processing {it}, best loss={bestloss}\")\n",
    "                loss_hist = np.append(loss_hist, loss.to('cpu').data.numpy())\n",
    "                pbar.set_description(f\"Processing {it}, best loss={bestloss}\")\n",
    "            except Exception as e:\n",
    "                if True:\n",
    "                    #print(e)\n",
    "                    with torch.no_grad():\n",
    "                        model.load_state_dict(best_params)\n",
    "        \n",
    "\n",
    "        # with torch.no_grad():\n",
    "        #     model.eval()\n",
    "        #     ds_gn = model.sample(len(my_dataset.data))[0].detach().cpu().numpy()\n",
    "        #     ds_gn = pd.DataFrame(ds_gn, columns=my_dataset.data.columns)\n",
    "        #     ds_gn.replace([np.inf, -np.inf], np.nan, inplace=True)\n",
    "        #     ds_gn.dropna(inplace=True)\n",
    "        #     ds_gn.dropna(axis=1, inplace=True)\n",
    "        #     ds_gn.dropna(inplace=True)\n",
    "        #     dict_dtype = my_dataset.data.dtypes.apply(lambda x: x.name).to_dict()\n",
    "        #     ds_gn = ds_gn.astype(dict_dtype)\n",
    "\n",
    "        #     ds_gn.to_csv(f'/home/samiri/SynDG/DOFLOWS/lifesci_{dp}_{nl}_{w}_{ml}_{lr}_{fltyp}_{rbst}_{vlay}_{nsamp}_{nmodes}_{rndadd}_{useloc}_{usestd}_{initp}.csv')\n",
    "        #     my_dataset.data.to_csv(f'/home/samiri/SynDG/DOFLOWS/lifesci_gen.csv')\n",
    "        #     nan_or_inf_df = ds_gn.isna() | np.isinf(ds_gn)\n",
    "\n",
    "        #     # Assuming real_data and synthetic_data are your dataframes\n",
    "        #     feature_names = my_dataset.data.columns\n",
    "\n",
    "        #     # List of categorical features\n",
    "        #     categorical_features = []\n",
    "\n",
    "        #     fig, axs = plt.subplots(2, 5, figsize=(20, 5))\n",
    "\n",
    "        #     for i, ax in enumerate(axs.flatten()):\n",
    "        #         if i < len(feature_names):\n",
    "        #             feature_name = feature_names[i]\n",
    "\n",
    "        #             # If the feature is categorical\n",
    "        #             if i in categorical_features:\n",
    "        #                 real_counts = my_dataset.data[feature_name].value_counts()\n",
    "        #                 synthetic_counts = ds_gn[feature_name].value_counts()\n",
    "        #                 all_categories = list(set(real_counts.index) | set(synthetic_counts.index))\n",
    "                        \n",
    "        #                 ax.bar(all_categories, [real_counts.get(category, 0) for category in all_categories], color='blue', alpha=0.5, label='Real')\n",
    "        #                 ax.bar(all_categories, [synthetic_counts.get(category, 0) for category in all_categories], color='red', alpha=0.5, label='Synthetic')\n",
    "        #             else:\n",
    "        #                 sns.kdeplot(my_dataset.data[feature_name], ax=ax, color='blue', label='Real')\n",
    "        #                 sns.kdeplot(ds_gn[feature_name], ax=ax, color='red', label='Synthetic')\n",
    "\n",
    "        #             ax.set_title(feature_name)\n",
    "        #             ax.legend()\n",
    "        #     fig.suptitle(f'Fold {it}', fontsize=15)            \n",
    "        #     plt.tight_layout()\n",
    "        #     plt.show()\n",
    "        #     model.train()  \n",
    "        #     del ds_gn\n",
    "        torch.cuda.empty_cache()\n",
    "        gc.collect()\n",
    "\n",
    "        scheduler.step(bestloss)\n",
    "        pbar.set_description(f\"Processing {it}, best loss={bestloss}\")\n",
    "        with torch.no_grad():\n",
    "            model.eval()\n",
    "            total_log_likelihood = 0\n",
    "            for i, features in enumerate(test_dataloader, 0):\n",
    "                x = features.to(device)\n",
    "                total_log_likelihood += model.forward_kld(x, robust=rbst,rmethod='med')*len(x)    \n",
    "            avg_log_likelihood = total_log_likelihood / len(test_data)\n",
    "            log_likelihoods.append(avg_log_likelihood.item())        \n",
    "            model.train()\n",
    "    avg_log_likelihoods.append(log_likelihoods)     \n",
    "    loss_hists.append(loss_hist)   \n",
    "        \n",
    "del optimizer,scheduler,dataloader,flows    \n",
    "torch.cuda.empty_cache()\n",
    "gc.collect()\n",
    "\n",
    "loss_arr.append([nl,w,bestloss])\n",
    "torch.cuda.empty_cache()\n",
    "gc.collect()\n",
    "\n",
    "# torch.save(model,f'/home/samiri/SynDG/DOFLOWS/lifesci_{dp}_{nl}_{w}_{ml}_{lr}_{fltyp}_{rbst}_{vlay}_{nsamp}_{nmodes}_{rndadd}_{useloc}_{usestd}_{initp}.pt')\n",
    "# with torch.no_grad():\n",
    "#     model.eval()\n",
    "\n",
    "#     ds_gn = model.sample(len(my_dataset.data))[0].detach().cpu().numpy()\n",
    "\n",
    "\n",
    "# #    del model\n",
    "#     ds_gn = pd.DataFrame(ds_gn, columns=my_dataset.data.columns)\n",
    "#     ds_gn.replace([np.inf, -np.inf], np.nan, inplace=True)\n",
    "#     ds_gn.dropna(inplace=True)\n",
    "#     ds_gn.dropna(axis=1, inplace=True)\n",
    "#     ds_gn.dropna(inplace=True)\n",
    "#     dict_dtype = my_dataset.data.dtypes.apply(lambda x: x.name).to_dict()\n",
    "#     ds_gn = ds_gn.astype(dict_dtype)\n",
    "\n",
    "#     ds_gn.to_csv(f'/home/samiri/SynDG/DOFLOWS/lifesci_{dp}_{nl}_{w}_{ml}_{lr}_{fltyp}_{rbst}_{vlay}_{nsamp}_{nmodes}_{rndadd}_{useloc}_{usestd}_{initp}.csv')\n",
    "#     my_dataset.data.to_csv(f'/home/samiri/SynDG/DOFLOWS/lifesci_gen.csv')\n",
    "#     nan_or_inf_df = ds_gn.isna() | np.isinf(ds_gn)\n",
    "\n",
    "#     # Assuming real_data and synthetic_data are your dataframes\n",
    "#     feature_names = my_dataset.data.columns\n",
    "\n",
    "#     # List of categorical features\n",
    "#     categorical_features = []\n",
    "\n",
    "#     fig, axs = plt.subplots(2, 5, figsize=(10, 20))\n",
    "\n",
    "#     for i, ax in enumerate(axs.flatten()):\n",
    "#         if i < len(feature_names):\n",
    "#             feature_name = feature_names[i]\n",
    "\n",
    "#             # If the feature is categorical\n",
    "#             if i in categorical_features:\n",
    "#                 real_counts = my_dataset.data[feature_name].value_counts()\n",
    "#                 synthetic_counts = ds_gn[feature_name].value_counts()\n",
    "#                 all_categories = list(set(real_counts.index) | set(synthetic_counts.index))\n",
    "                \n",
    "#                 ax.bar(all_categories, [real_counts.get(category, 0) for category in all_categories], color='blue', alpha=0.5, label='Real')\n",
    "#                 ax.bar(all_categories, [synthetic_counts.get(category, 0) for category in all_categories], color='red', alpha=0.5, label='Synthetic')\n",
    "#             else:\n",
    "#                 sns.kdeplot(my_dataset.data[feature_name], ax=ax, color='blue', label='Real')\n",
    "#                 sns.kdeplot(ds_gn[feature_name], ax=ax, color='red', label='Synthetic')\n",
    "\n",
    "#             ax.set_title(feature_name)\n",
    "#             ax.legend()\n",
    "\n",
    "#     plt.tight_layout()\n",
    "#     plt.show()\n",
    "#     model.train()\n",
    "\n",
    "# plt.savefig(f'/home/samiri/SynDG/DOFLOWS/lifesci_{dp}_{nl}_{w}_{ml}_{lr}_{fltyp}_{rbst}_{vlay}_{nsamp}_{nmodes}_{rndadd}_{useloc}_{usestd}_{initp}.png')\n",
    "# del ds_gn\n",
    "# torch.cuda.empty_cache()\n",
    "# gc.collect()\n",
    "# torch.cuda.empty_cache()\n",
    "# gc.collect()\n",
    "# torch.cuda.empty_cache()\n",
    "# gc.collect()\n",
    "\n",
    "\n"
   ]
  },
  {
   "cell_type": "code",
   "execution_count": 8,
   "metadata": {},
   "outputs": [
    {
     "data": {
      "image/png": "[encoded data removed]",
      "text/plain": [
       "<Figure size 1000x600 with 1 Axes>"
      ]
     },
     "metadata": {},
     "output_type": "display_data"
    }
   ],
   "source": [
    "df = pd.DataFrame(loss_hists).T\n",
    "df = pd.DataFrame(avg_log_likelihoods).T\n",
    "\n",
    "import pandas as pd\n",
    "import matplotlib.pyplot as plt\n",
    "import numpy as np\n",
    "\n",
    "# assuming df is your DataFrame where rows represent measurements and columns represent experiments\n",
    "\n",
    "# Calculate the mean and standard error for each measurement across all experiments\n",
    "mean = df.mean(axis=1)\n",
    "std_error = df.sem(axis=1)\n",
    "\n",
    "# Create a figure\n",
    "plt.figure(figsize=(10, 6))\n",
    "\n",
    "# Plot the mean line\n",
    "plt.plot(mean.index, mean.values, color='blue', label='Mean')\n",
    "\n",
    "# Add the shaded region representing the standard error\n",
    "plt.fill_between(mean.index, mean.values - std_error, mean.values + std_error, color='blue', alpha=0.2)\n",
    "\n",
    "# Set the title and labels\n",
    "plt.title('Mean and Standard Error of Measurements')\n",
    "plt.xlabel('Measurement')\n",
    "plt.ylabel('Values')\n",
    "plt.legend()\n",
    "\n",
    "# Show the plot\n",
    "plt.show()"
   ]
  },
  {
   "cell_type": "code",
   "execution_count": 4,
   "metadata": {},
   "outputs": [
    {
     "name": "stderr",
     "output_type": "stream",
     "text": [
      "  0%|          | 0/300 [00:00<?, ?it/s]"
     ]
    },
    {
     "name": "stdout",
     "output_type": "stream",
     "text": [
      "final consumed budget in interval [-2.01, 2.01] is  181.99805665008503\n"
     ]
    },
    {
     "name": "stderr",
     "output_type": "stream",
     "text": [
      "  0%|          | 0/300 [00:02<?, ?it/s]\n",
      "Processing 299, best loss=-796.1029052734375: 100%|██████████| 300/300 [10:56<00:00,  2.19s/it]\n"
     ]
    },
    {
     "name": "stdout",
     "output_type": "stream",
     "text": [
      "final consumed budget in interval [-2.01, 2.01] is  183.2743137721393\n"
     ]
    },
    {
     "name": "stderr",
     "output_type": "stream",
     "text": [
      "Processing 21, best loss=inf:   7%|▋         | 21/300 [00:26<05:56,  1.28s/it]"
     ]
    },
    {
     "name": "stdout",
     "output_type": "stream",
     "text": [
      "Epoch 00021: reducing learning rate of group 0 to 2.5000e-04.\n"
     ]
    },
    {
     "name": "stderr",
     "output_type": "stream",
     "text": [
      "Processing 42, best loss=inf:  14%|█▍        | 42/300 [00:53<05:28,  1.28s/it]"
     ]
    },
    {
     "name": "stdout",
     "output_type": "stream",
     "text": [
      "Epoch 00042: reducing learning rate of group 0 to 1.2500e-04.\n"
     ]
    },
    {
     "name": "stderr",
     "output_type": "stream",
     "text": [
      "Processing 63, best loss=inf:  21%|██        | 63/300 [01:20<05:04,  1.28s/it]"
     ]
    },
    {
     "name": "stdout",
     "output_type": "stream",
     "text": [
      "Epoch 00063: reducing learning rate of group 0 to 6.2500e-05.\n"
     ]
    },
    {
     "name": "stderr",
     "output_type": "stream",
     "text": [
      "Processing 84, best loss=inf:  28%|██▊       | 84/300 [01:47<04:31,  1.26s/it]"
     ]
    },
    {
     "name": "stdout",
     "output_type": "stream",
     "text": [
      "Epoch 00084: reducing learning rate of group 0 to 3.1250e-05.\n"
     ]
    },
    {
     "name": "stderr",
     "output_type": "stream",
     "text": [
      "Processing 105, best loss=inf:  35%|███▌      | 105/300 [02:13<04:05,  1.26s/it]"
     ]
    },
    {
     "name": "stdout",
     "output_type": "stream",
     "text": [
      "Epoch 00105: reducing learning rate of group 0 to 1.5625e-05.\n"
     ]
    },
    {
     "name": "stderr",
     "output_type": "stream",
     "text": [
      "Processing 126, best loss=inf:  42%|████▏     | 126/300 [02:40<03:38,  1.26s/it]"
     ]
    },
    {
     "name": "stdout",
     "output_type": "stream",
     "text": [
      "Epoch 00126: reducing learning rate of group 0 to 7.8125e-06.\n"
     ]
    },
    {
     "name": "stderr",
     "output_type": "stream",
     "text": [
      "Processing 147, best loss=inf:  49%|████▉     | 147/300 [03:06<03:13,  1.26s/it]"
     ]
    },
    {
     "name": "stdout",
     "output_type": "stream",
     "text": [
      "Epoch 00147: reducing learning rate of group 0 to 3.9063e-06.\n"
     ]
    },
    {
     "name": "stderr",
     "output_type": "stream",
     "text": [
      "Processing 168, best loss=inf:  56%|█████▌    | 168/300 [03:32<02:45,  1.26s/it]"
     ]
    },
    {
     "name": "stdout",
     "output_type": "stream",
     "text": [
      "Epoch 00168: reducing learning rate of group 0 to 1.9531e-06.\n"
     ]
    },
    {
     "name": "stderr",
     "output_type": "stream",
     "text": [
      "Processing 189, best loss=inf:  63%|██████▎   | 189/300 [03:59<02:19,  1.26s/it]"
     ]
    },
    {
     "name": "stdout",
     "output_type": "stream",
     "text": [
      "Epoch 00189: reducing learning rate of group 0 to 9.7656e-07.\n"
     ]
    },
    {
     "name": "stderr",
     "output_type": "stream",
     "text": [
      "Processing 210, best loss=inf:  70%|███████   | 210/300 [04:25<01:53,  1.26s/it]"
     ]
    },
    {
     "name": "stdout",
     "output_type": "stream",
     "text": [
      "Epoch 00210: reducing learning rate of group 0 to 4.8828e-07.\n"
     ]
    },
    {
     "name": "stderr",
     "output_type": "stream",
     "text": [
      "Processing 231, best loss=inf:  77%|███████▋  | 231/300 [04:52<01:26,  1.26s/it]"
     ]
    },
    {
     "name": "stdout",
     "output_type": "stream",
     "text": [
      "Epoch 00231: reducing learning rate of group 0 to 2.4414e-07.\n"
     ]
    },
    {
     "name": "stderr",
     "output_type": "stream",
     "text": [
      "Processing 252, best loss=inf:  84%|████████▍ | 252/300 [05:18<01:00,  1.26s/it]"
     ]
    },
    {
     "name": "stdout",
     "output_type": "stream",
     "text": [
      "Epoch 00252: reducing learning rate of group 0 to 1.2207e-07.\n"
     ]
    },
    {
     "name": "stderr",
     "output_type": "stream",
     "text": [
      "Processing 273, best loss=inf:  91%|█████████ | 273/300 [05:45<00:34,  1.26s/it]"
     ]
    },
    {
     "name": "stdout",
     "output_type": "stream",
     "text": [
      "Epoch 00273: reducing learning rate of group 0 to 6.1035e-08.\n"
     ]
    },
    {
     "name": "stderr",
     "output_type": "stream",
     "text": [
      "Processing 294, best loss=inf:  98%|█████████▊| 294/300 [06:11<00:07,  1.26s/it]"
     ]
    },
    {
     "name": "stdout",
     "output_type": "stream",
     "text": [
      "Epoch 00294: reducing learning rate of group 0 to 3.0518e-08.\n"
     ]
    },
    {
     "name": "stderr",
     "output_type": "stream",
     "text": [
      "Processing 299, best loss=inf: 100%|██████████| 300/300 [06:19<00:00,  1.26s/it]\n"
     ]
    },
    {
     "name": "stdout",
     "output_type": "stream",
     "text": [
      "final consumed budget in interval [-2.01, 2.01] is  178.68214395738826\n"
     ]
    },
    {
     "name": "stderr",
     "output_type": "stream",
     "text": [
      "Processing 21, best loss=inf:   7%|▋         | 21/300 [00:26<05:54,  1.27s/it]"
     ]
    },
    {
     "name": "stdout",
     "output_type": "stream",
     "text": [
      "Epoch 00021: reducing learning rate of group 0 to 2.5000e-04.\n"
     ]
    },
    {
     "name": "stderr",
     "output_type": "stream",
     "text": [
      "Processing 42, best loss=inf:  14%|█▍        | 42/300 [00:53<05:27,  1.27s/it]"
     ]
    },
    {
     "name": "stdout",
     "output_type": "stream",
     "text": [
      "Epoch 00042: reducing learning rate of group 0 to 1.2500e-04.\n"
     ]
    },
    {
     "name": "stderr",
     "output_type": "stream",
     "text": [
      "Processing 63, best loss=inf:  21%|██        | 63/300 [01:20<05:01,  1.27s/it]"
     ]
    },
    {
     "name": "stdout",
     "output_type": "stream",
     "text": [
      "Epoch 00063: reducing learning rate of group 0 to 6.2500e-05.\n"
     ]
    },
    {
     "name": "stderr",
     "output_type": "stream",
     "text": [
      "Processing 84, best loss=inf:  28%|██▊       | 84/300 [01:46<04:34,  1.27s/it]"
     ]
    },
    {
     "name": "stdout",
     "output_type": "stream",
     "text": [
      "Epoch 00084: reducing learning rate of group 0 to 3.1250e-05.\n"
     ]
    },
    {
     "name": "stderr",
     "output_type": "stream",
     "text": [
      "Processing 105, best loss=inf:  35%|███▌      | 105/300 [02:13<04:08,  1.28s/it]"
     ]
    },
    {
     "name": "stdout",
     "output_type": "stream",
     "text": [
      "Epoch 00105: reducing learning rate of group 0 to 1.5625e-05.\n"
     ]
    },
    {
     "name": "stderr",
     "output_type": "stream",
     "text": [
      "Processing 126, best loss=inf:  42%|████▏     | 126/300 [02:40<03:40,  1.27s/it]"
     ]
    },
    {
     "name": "stdout",
     "output_type": "stream",
     "text": [
      "Epoch 00126: reducing learning rate of group 0 to 7.8125e-06.\n"
     ]
    },
    {
     "name": "stderr",
     "output_type": "stream",
     "text": [
      "Processing 147, best loss=inf:  49%|████▉     | 147/300 [03:06<03:15,  1.28s/it]"
     ]
    },
    {
     "name": "stdout",
     "output_type": "stream",
     "text": [
      "Epoch 00147: reducing learning rate of group 0 to 3.9063e-06.\n"
     ]
    },
    {
     "name": "stderr",
     "output_type": "stream",
     "text": [
      "Processing 168, best loss=inf:  56%|█████▌    | 168/300 [03:33<02:47,  1.27s/it]"
     ]
    },
    {
     "name": "stdout",
     "output_type": "stream",
     "text": [
      "Epoch 00168: reducing learning rate of group 0 to 1.9531e-06.\n"
     ]
    },
    {
     "name": "stderr",
     "output_type": "stream",
     "text": [
      "Processing 189, best loss=inf:  63%|██████▎   | 189/300 [04:00<02:21,  1.28s/it]"
     ]
    },
    {
     "name": "stdout",
     "output_type": "stream",
     "text": [
      "Epoch 00189: reducing learning rate of group 0 to 9.7656e-07.\n"
     ]
    },
    {
     "name": "stderr",
     "output_type": "stream",
     "text": [
      "Processing 210, best loss=inf:  70%|███████   | 210/300 [04:27<01:54,  1.27s/it]"
     ]
    },
    {
     "name": "stdout",
     "output_type": "stream",
     "text": [
      "Epoch 00210: reducing learning rate of group 0 to 4.8828e-07.\n"
     ]
    },
    {
     "name": "stderr",
     "output_type": "stream",
     "text": [
      "Processing 231, best loss=inf:  77%|███████▋  | 231/300 [04:53<01:27,  1.27s/it]"
     ]
    },
    {
     "name": "stdout",
     "output_type": "stream",
     "text": [
      "Epoch 00231: reducing learning rate of group 0 to 2.4414e-07.\n"
     ]
    },
    {
     "name": "stderr",
     "output_type": "stream",
     "text": [
      "Processing 252, best loss=inf:  84%|████████▍ | 252/300 [05:20<01:01,  1.27s/it]"
     ]
    },
    {
     "name": "stdout",
     "output_type": "stream",
     "text": [
      "Epoch 00252: reducing learning rate of group 0 to 1.2207e-07.\n"
     ]
    },
    {
     "name": "stderr",
     "output_type": "stream",
     "text": [
      "Processing 273, best loss=inf:  91%|█████████ | 273/300 [05:47<00:34,  1.27s/it]"
     ]
    },
    {
     "name": "stdout",
     "output_type": "stream",
     "text": [
      "Epoch 00273: reducing learning rate of group 0 to 6.1035e-08.\n"
     ]
    },
    {
     "name": "stderr",
     "output_type": "stream",
     "text": [
      "Processing 294, best loss=inf:  98%|█████████▊| 294/300 [06:13<00:07,  1.27s/it]"
     ]
    },
    {
     "name": "stdout",
     "output_type": "stream",
     "text": [
      "Epoch 00294: reducing learning rate of group 0 to 3.0518e-08.\n"
     ]
    },
    {
     "name": "stderr",
     "output_type": "stream",
     "text": [
      "Processing 299, best loss=inf: 100%|██████████| 300/300 [06:21<00:00,  1.27s/it]\n"
     ]
    },
    {
     "name": "stdout",
     "output_type": "stream",
     "text": [
      "final consumed budget in interval [-2.01, 2.01] is  186.29820416184498\n"
     ]
    },
    {
     "name": "stderr",
     "output_type": "stream",
     "text": [
      "Processing 21, best loss=inf:   7%|▋         | 21/300 [00:26<05:57,  1.28s/it]"
     ]
    },
    {
     "name": "stdout",
     "output_type": "stream",
     "text": [
      "Epoch 00021: reducing learning rate of group 0 to 2.5000e-04.\n"
     ]
    },
    {
     "name": "stderr",
     "output_type": "stream",
     "text": [
      "Processing 42, best loss=inf:  14%|█▍        | 42/300 [00:53<05:28,  1.27s/it]"
     ]
    },
    {
     "name": "stdout",
     "output_type": "stream",
     "text": [
      "Epoch 00042: reducing learning rate of group 0 to 1.2500e-04.\n"
     ]
    },
    {
     "name": "stderr",
     "output_type": "stream",
     "text": [
      "Processing 63, best loss=inf:  21%|██        | 63/300 [01:20<05:01,  1.27s/it]"
     ]
    },
    {
     "name": "stdout",
     "output_type": "stream",
     "text": [
      "Epoch 00063: reducing learning rate of group 0 to 6.2500e-05.\n"
     ]
    },
    {
     "name": "stderr",
     "output_type": "stream",
     "text": [
      "Processing 84, best loss=inf:  28%|██▊       | 84/300 [01:47<04:35,  1.28s/it]"
     ]
    },
    {
     "name": "stdout",
     "output_type": "stream",
     "text": [
      "Epoch 00084: reducing learning rate of group 0 to 3.1250e-05.\n"
     ]
    },
    {
     "name": "stderr",
     "output_type": "stream",
     "text": [
      "Processing 105, best loss=inf:  35%|███▌      | 105/300 [02:13<04:08,  1.27s/it]"
     ]
    },
    {
     "name": "stdout",
     "output_type": "stream",
     "text": [
      "Epoch 00105: reducing learning rate of group 0 to 1.5625e-05.\n"
     ]
    },
    {
     "name": "stderr",
     "output_type": "stream",
     "text": [
      "Processing 126, best loss=inf:  42%|████▏     | 126/300 [02:40<03:40,  1.27s/it]"
     ]
    },
    {
     "name": "stdout",
     "output_type": "stream",
     "text": [
      "Epoch 00126: reducing learning rate of group 0 to 7.8125e-06.\n"
     ]
    },
    {
     "name": "stderr",
     "output_type": "stream",
     "text": [
      "Processing 147, best loss=inf:  49%|████▉     | 147/300 [03:06<03:12,  1.26s/it]"
     ]
    },
    {
     "name": "stdout",
     "output_type": "stream",
     "text": [
      "Epoch 00147: reducing learning rate of group 0 to 3.9063e-06.\n"
     ]
    },
    {
     "name": "stderr",
     "output_type": "stream",
     "text": [
      "Processing 168, best loss=inf:  56%|█████▌    | 168/300 [03:33<02:44,  1.25s/it]"
     ]
    },
    {
     "name": "stdout",
     "output_type": "stream",
     "text": [
      "Epoch 00168: reducing learning rate of group 0 to 1.9531e-06.\n"
     ]
    },
    {
     "name": "stderr",
     "output_type": "stream",
     "text": [
      "Processing 189, best loss=inf:  63%|██████▎   | 189/300 [03:59<02:19,  1.26s/it]"
     ]
    },
    {
     "name": "stdout",
     "output_type": "stream",
     "text": [
      "Epoch 00189: reducing learning rate of group 0 to 9.7656e-07.\n"
     ]
    },
    {
     "name": "stderr",
     "output_type": "stream",
     "text": [
      "Processing 210, best loss=inf:  70%|███████   | 210/300 [04:25<01:53,  1.26s/it]"
     ]
    },
    {
     "name": "stdout",
     "output_type": "stream",
     "text": [
      "Epoch 00210: reducing learning rate of group 0 to 4.8828e-07.\n"
     ]
    },
    {
     "name": "stderr",
     "output_type": "stream",
     "text": [
      "Processing 231, best loss=inf:  77%|███████▋  | 231/300 [04:52<01:26,  1.26s/it]"
     ]
    },
    {
     "name": "stdout",
     "output_type": "stream",
     "text": [
      "Epoch 00231: reducing learning rate of group 0 to 2.4414e-07.\n"
     ]
    },
    {
     "name": "stderr",
     "output_type": "stream",
     "text": [
      "Processing 252, best loss=inf:  84%|████████▍ | 252/300 [05:18<01:00,  1.26s/it]"
     ]
    },
    {
     "name": "stdout",
     "output_type": "stream",
     "text": [
      "Epoch 00252: reducing learning rate of group 0 to 1.2207e-07.\n"
     ]
    },
    {
     "name": "stderr",
     "output_type": "stream",
     "text": [
      "Processing 273, best loss=inf:  91%|█████████ | 273/300 [05:45<00:33,  1.26s/it]"
     ]
    },
    {
     "name": "stdout",
     "output_type": "stream",
     "text": [
      "Epoch 00273: reducing learning rate of group 0 to 6.1035e-08.\n"
     ]
    },
    {
     "name": "stderr",
     "output_type": "stream",
     "text": [
      "Processing 294, best loss=inf:  98%|█████████▊| 294/300 [06:11<00:07,  1.25s/it]"
     ]
    },
    {
     "name": "stdout",
     "output_type": "stream",
     "text": [
      "Epoch 00294: reducing learning rate of group 0 to 3.0518e-08.\n"
     ]
    },
    {
     "name": "stderr",
     "output_type": "stream",
     "text": [
      "Processing 299, best loss=inf: 100%|██████████| 300/300 [06:19<00:00,  1.26s/it]\n"
     ]
    },
    {
     "name": "stdout",
     "output_type": "stream",
     "text": [
      "final consumed budget in interval [-2.01, 2.01] is  194.24096113756804\n"
     ]
    },
    {
     "name": "stderr",
     "output_type": "stream",
     "text": [
      "Processing 21, best loss=inf:   7%|▋         | 21/300 [00:26<05:50,  1.26s/it]"
     ]
    },
    {
     "name": "stdout",
     "output_type": "stream",
     "text": [
      "Epoch 00021: reducing learning rate of group 0 to 2.5000e-04.\n"
     ]
    },
    {
     "name": "stderr",
     "output_type": "stream",
     "text": [
      "Processing 42, best loss=inf:  14%|█▍        | 42/300 [00:52<05:24,  1.26s/it]"
     ]
    },
    {
     "name": "stdout",
     "output_type": "stream",
     "text": [
      "Epoch 00042: reducing learning rate of group 0 to 1.2500e-04.\n"
     ]
    },
    {
     "name": "stderr",
     "output_type": "stream",
     "text": [
      "Processing 63, best loss=inf:  21%|██        | 63/300 [01:19<04:57,  1.26s/it]"
     ]
    },
    {
     "name": "stdout",
     "output_type": "stream",
     "text": [
      "Epoch 00063: reducing learning rate of group 0 to 6.2500e-05.\n"
     ]
    },
    {
     "name": "stderr",
     "output_type": "stream",
     "text": [
      "Processing 84, best loss=inf:  28%|██▊       | 84/300 [01:45<04:31,  1.26s/it]"
     ]
    },
    {
     "name": "stdout",
     "output_type": "stream",
     "text": [
      "Epoch 00084: reducing learning rate of group 0 to 3.1250e-05.\n"
     ]
    },
    {
     "name": "stderr",
     "output_type": "stream",
     "text": [
      "Processing 105, best loss=inf:  35%|███▌      | 105/300 [02:12<04:05,  1.26s/it]"
     ]
    },
    {
     "name": "stdout",
     "output_type": "stream",
     "text": [
      "Epoch 00105: reducing learning rate of group 0 to 1.5625e-05.\n"
     ]
    },
    {
     "name": "stderr",
     "output_type": "stream",
     "text": [
      "Processing 126, best loss=inf:  42%|████▏     | 126/300 [02:38<03:38,  1.26s/it]"
     ]
    },
    {
     "name": "stdout",
     "output_type": "stream",
     "text": [
      "Epoch 00126: reducing learning rate of group 0 to 7.8125e-06.\n"
     ]
    },
    {
     "name": "stderr",
     "output_type": "stream",
     "text": [
      "Processing 147, best loss=inf:  49%|████▉     | 147/300 [03:05<03:14,  1.27s/it]"
     ]
    },
    {
     "name": "stdout",
     "output_type": "stream",
     "text": [
      "Epoch 00147: reducing learning rate of group 0 to 3.9063e-06.\n"
     ]
    },
    {
     "name": "stderr",
     "output_type": "stream",
     "text": [
      "Processing 168, best loss=inf:  56%|█████▌    | 168/300 [03:31<02:48,  1.28s/it]"
     ]
    },
    {
     "name": "stdout",
     "output_type": "stream",
     "text": [
      "Epoch 00168: reducing learning rate of group 0 to 1.9531e-06.\n"
     ]
    },
    {
     "name": "stderr",
     "output_type": "stream",
     "text": [
      "Processing 189, best loss=inf:  63%|██████▎   | 189/300 [03:58<02:21,  1.28s/it]"
     ]
    },
    {
     "name": "stdout",
     "output_type": "stream",
     "text": [
      "Epoch 00189: reducing learning rate of group 0 to 9.7656e-07.\n"
     ]
    },
    {
     "name": "stderr",
     "output_type": "stream",
     "text": [
      "Processing 210, best loss=inf:  70%|███████   | 210/300 [04:25<01:55,  1.28s/it]"
     ]
    },
    {
     "name": "stdout",
     "output_type": "stream",
     "text": [
      "Epoch 00210: reducing learning rate of group 0 to 4.8828e-07.\n"
     ]
    },
    {
     "name": "stderr",
     "output_type": "stream",
     "text": [
      "Processing 231, best loss=inf:  77%|███████▋  | 231/300 [04:52<01:28,  1.28s/it]"
     ]
    },
    {
     "name": "stdout",
     "output_type": "stream",
     "text": [
      "Epoch 00231: reducing learning rate of group 0 to 2.4414e-07.\n"
     ]
    },
    {
     "name": "stderr",
     "output_type": "stream",
     "text": [
      "Processing 252, best loss=inf:  84%|████████▍ | 252/300 [05:19<01:01,  1.28s/it]"
     ]
    },
    {
     "name": "stdout",
     "output_type": "stream",
     "text": [
      "Epoch 00252: reducing learning rate of group 0 to 1.2207e-07.\n"
     ]
    },
    {
     "name": "stderr",
     "output_type": "stream",
     "text": [
      "Processing 273, best loss=inf:  91%|█████████ | 273/300 [05:45<00:34,  1.28s/it]"
     ]
    },
    {
     "name": "stdout",
     "output_type": "stream",
     "text": [
      "Epoch 00273: reducing learning rate of group 0 to 6.1035e-08.\n"
     ]
    },
    {
     "name": "stderr",
     "output_type": "stream",
     "text": [
      "Processing 294, best loss=inf:  98%|█████████▊| 294/300 [06:12<00:07,  1.28s/it]"
     ]
    },
    {
     "name": "stdout",
     "output_type": "stream",
     "text": [
      "Epoch 00294: reducing learning rate of group 0 to 3.0518e-08.\n"
     ]
    },
    {
     "name": "stderr",
     "output_type": "stream",
     "text": [
      "Processing 299, best loss=inf: 100%|██████████| 300/300 [06:20<00:00,  1.27s/it]\n"
     ]
    },
    {
     "name": "stdout",
     "output_type": "stream",
     "text": [
      "final consumed budget in interval [-2.01, 2.01] is  176.02363288284053\n"
     ]
    },
    {
     "name": "stderr",
     "output_type": "stream",
     "text": [
      "Processing 21, best loss=inf:   7%|▋         | 21/300 [00:26<05:54,  1.27s/it]"
     ]
    },
    {
     "name": "stdout",
     "output_type": "stream",
     "text": [
      "Epoch 00021: reducing learning rate of group 0 to 2.5000e-04.\n"
     ]
    },
    {
     "name": "stderr",
     "output_type": "stream",
     "text": [
      "Processing 42, best loss=inf:  14%|█▍        | 42/300 [00:53<05:21,  1.25s/it]"
     ]
    },
    {
     "name": "stdout",
     "output_type": "stream",
     "text": [
      "Epoch 00042: reducing learning rate of group 0 to 1.2500e-04.\n"
     ]
    },
    {
     "name": "stderr",
     "output_type": "stream",
     "text": [
      "Processing 63, best loss=inf:  21%|██        | 63/300 [01:19<04:56,  1.25s/it]"
     ]
    },
    {
     "name": "stdout",
     "output_type": "stream",
     "text": [
      "Epoch 00063: reducing learning rate of group 0 to 6.2500e-05.\n"
     ]
    },
    {
     "name": "stderr",
     "output_type": "stream",
     "text": [
      "Processing 84, best loss=inf:  28%|██▊       | 84/300 [01:45<04:29,  1.25s/it]"
     ]
    },
    {
     "name": "stdout",
     "output_type": "stream",
     "text": [
      "Epoch 00084: reducing learning rate of group 0 to 3.1250e-05.\n"
     ]
    },
    {
     "name": "stderr",
     "output_type": "stream",
     "text": [
      "Processing 105, best loss=inf:  35%|███▌      | 105/300 [02:11<04:02,  1.25s/it]"
     ]
    },
    {
     "name": "stdout",
     "output_type": "stream",
     "text": [
      "Epoch 00105: reducing learning rate of group 0 to 1.5625e-05.\n"
     ]
    },
    {
     "name": "stderr",
     "output_type": "stream",
     "text": [
      "Processing 126, best loss=inf:  42%|████▏     | 126/300 [02:37<03:36,  1.24s/it]"
     ]
    },
    {
     "name": "stdout",
     "output_type": "stream",
     "text": [
      "Epoch 00126: reducing learning rate of group 0 to 7.8125e-06.\n"
     ]
    },
    {
     "name": "stderr",
     "output_type": "stream",
     "text": [
      "Processing 147, best loss=inf:  49%|████▉     | 147/300 [03:03<03:10,  1.24s/it]"
     ]
    },
    {
     "name": "stdout",
     "output_type": "stream",
     "text": [
      "Epoch 00147: reducing learning rate of group 0 to 3.9063e-06.\n"
     ]
    },
    {
     "name": "stderr",
     "output_type": "stream",
     "text": [
      "Processing 168, best loss=inf:  56%|█████▌    | 168/300 [03:29<02:43,  1.24s/it]"
     ]
    },
    {
     "name": "stdout",
     "output_type": "stream",
     "text": [
      "Epoch 00168: reducing learning rate of group 0 to 1.9531e-06.\n"
     ]
    },
    {
     "name": "stderr",
     "output_type": "stream",
     "text": [
      "Processing 189, best loss=inf:  63%|██████▎   | 189/300 [03:56<02:17,  1.24s/it]"
     ]
    },
    {
     "name": "stdout",
     "output_type": "stream",
     "text": [
      "Epoch 00189: reducing learning rate of group 0 to 9.7656e-07.\n"
     ]
    },
    {
     "name": "stderr",
     "output_type": "stream",
     "text": [
      "Processing 210, best loss=inf:  70%|███████   | 210/300 [04:22<01:51,  1.24s/it]"
     ]
    },
    {
     "name": "stdout",
     "output_type": "stream",
     "text": [
      "Epoch 00210: reducing learning rate of group 0 to 4.8828e-07.\n"
     ]
    },
    {
     "name": "stderr",
     "output_type": "stream",
     "text": [
      "Processing 231, best loss=inf:  77%|███████▋  | 231/300 [04:48<01:25,  1.24s/it]"
     ]
    },
    {
     "name": "stdout",
     "output_type": "stream",
     "text": [
      "Epoch 00231: reducing learning rate of group 0 to 2.4414e-07.\n"
     ]
    },
    {
     "name": "stderr",
     "output_type": "stream",
     "text": [
      "Processing 252, best loss=inf:  84%|████████▍ | 252/300 [05:14<00:59,  1.25s/it]"
     ]
    },
    {
     "name": "stdout",
     "output_type": "stream",
     "text": [
      "Epoch 00252: reducing learning rate of group 0 to 1.2207e-07.\n"
     ]
    },
    {
     "name": "stderr",
     "output_type": "stream",
     "text": [
      "Processing 273, best loss=inf:  91%|█████████ | 273/300 [05:40<00:33,  1.24s/it]"
     ]
    },
    {
     "name": "stdout",
     "output_type": "stream",
     "text": [
      "Epoch 00273: reducing learning rate of group 0 to 6.1035e-08.\n"
     ]
    },
    {
     "name": "stderr",
     "output_type": "stream",
     "text": [
      "Processing 294, best loss=inf:  98%|█████████▊| 294/300 [06:06<00:07,  1.24s/it]"
     ]
    },
    {
     "name": "stdout",
     "output_type": "stream",
     "text": [
      "Epoch 00294: reducing learning rate of group 0 to 3.0518e-08.\n"
     ]
    },
    {
     "name": "stderr",
     "output_type": "stream",
     "text": [
      "Processing 299, best loss=inf: 100%|██████████| 300/300 [06:13<00:00,  1.25s/it]\n"
     ]
    },
    {
     "name": "stdout",
     "output_type": "stream",
     "text": [
      "final consumed budget in interval [-2.01, 2.01] is  172.88629788500032\n"
     ]
    },
    {
     "name": "stderr",
     "output_type": "stream",
     "text": [
      "Processing 21, best loss=inf:   7%|▋         | 21/300 [00:26<05:46,  1.24s/it]"
     ]
    },
    {
     "name": "stdout",
     "output_type": "stream",
     "text": [
      "Epoch 00021: reducing learning rate of group 0 to 2.5000e-04.\n"
     ]
    },
    {
     "name": "stderr",
     "output_type": "stream",
     "text": [
      "Processing 42, best loss=inf:  14%|█▍        | 42/300 [00:52<05:21,  1.25s/it]"
     ]
    },
    {
     "name": "stdout",
     "output_type": "stream",
     "text": [
      "Epoch 00042: reducing learning rate of group 0 to 1.2500e-04.\n"
     ]
    },
    {
     "name": "stderr",
     "output_type": "stream",
     "text": [
      "Processing 63, best loss=inf:  21%|██        | 63/300 [01:18<04:54,  1.24s/it]"
     ]
    },
    {
     "name": "stdout",
     "output_type": "stream",
     "text": [
      "Epoch 00063: reducing learning rate of group 0 to 6.2500e-05.\n"
     ]
    },
    {
     "name": "stderr",
     "output_type": "stream",
     "text": [
      "Processing 84, best loss=inf:  28%|██▊       | 84/300 [01:44<04:30,  1.25s/it]"
     ]
    },
    {
     "name": "stdout",
     "output_type": "stream",
     "text": [
      "Epoch 00084: reducing learning rate of group 0 to 3.1250e-05.\n"
     ]
    },
    {
     "name": "stderr",
     "output_type": "stream",
     "text": [
      "Processing 105, best loss=inf:  35%|███▌      | 105/300 [02:10<04:02,  1.24s/it]"
     ]
    },
    {
     "name": "stdout",
     "output_type": "stream",
     "text": [
      "Epoch 00105: reducing learning rate of group 0 to 1.5625e-05.\n"
     ]
    },
    {
     "name": "stderr",
     "output_type": "stream",
     "text": [
      "Processing 126, best loss=inf:  42%|████▏     | 126/300 [02:36<03:32,  1.22s/it]"
     ]
    },
    {
     "name": "stdout",
     "output_type": "stream",
     "text": [
      "Epoch 00126: reducing learning rate of group 0 to 7.8125e-06.\n"
     ]
    },
    {
     "name": "stderr",
     "output_type": "stream",
     "text": [
      "Processing 147, best loss=inf:  49%|████▉     | 147/300 [03:02<03:07,  1.22s/it]"
     ]
    },
    {
     "name": "stdout",
     "output_type": "stream",
     "text": [
      "Epoch 00147: reducing learning rate of group 0 to 3.9063e-06.\n"
     ]
    },
    {
     "name": "stderr",
     "output_type": "stream",
     "text": [
      "Processing 168, best loss=inf:  56%|█████▌    | 168/300 [03:27<02:41,  1.23s/it]"
     ]
    },
    {
     "name": "stdout",
     "output_type": "stream",
     "text": [
      "Epoch 00168: reducing learning rate of group 0 to 1.9531e-06.\n"
     ]
    },
    {
     "name": "stderr",
     "output_type": "stream",
     "text": [
      "Processing 189, best loss=inf:  63%|██████▎   | 189/300 [03:53<02:15,  1.22s/it]"
     ]
    },
    {
     "name": "stdout",
     "output_type": "stream",
     "text": [
      "Epoch 00189: reducing learning rate of group 0 to 9.7656e-07.\n"
     ]
    },
    {
     "name": "stderr",
     "output_type": "stream",
     "text": [
      "Processing 210, best loss=inf:  70%|███████   | 210/300 [04:19<01:50,  1.23s/it]"
     ]
    },
    {
     "name": "stdout",
     "output_type": "stream",
     "text": [
      "Epoch 00210: reducing learning rate of group 0 to 4.8828e-07.\n"
     ]
    },
    {
     "name": "stderr",
     "output_type": "stream",
     "text": [
      "Processing 231, best loss=inf:  77%|███████▋  | 231/300 [04:45<01:24,  1.22s/it]"
     ]
    },
    {
     "name": "stdout",
     "output_type": "stream",
     "text": [
      "Epoch 00231: reducing learning rate of group 0 to 2.4414e-07.\n"
     ]
    },
    {
     "name": "stderr",
     "output_type": "stream",
     "text": [
      "Processing 252, best loss=inf:  84%|████████▍ | 252/300 [05:10<00:58,  1.23s/it]"
     ]
    },
    {
     "name": "stdout",
     "output_type": "stream",
     "text": [
      "Epoch 00252: reducing learning rate of group 0 to 1.2207e-07.\n"
     ]
    },
    {
     "name": "stderr",
     "output_type": "stream",
     "text": [
      "Processing 273, best loss=inf:  91%|█████████ | 273/300 [05:36<00:33,  1.23s/it]"
     ]
    },
    {
     "name": "stdout",
     "output_type": "stream",
     "text": [
      "Epoch 00273: reducing learning rate of group 0 to 6.1035e-08.\n"
     ]
    },
    {
     "name": "stderr",
     "output_type": "stream",
     "text": [
      "Processing 294, best loss=inf:  98%|█████████▊| 294/300 [06:02<00:07,  1.24s/it]"
     ]
    },
    {
     "name": "stdout",
     "output_type": "stream",
     "text": [
      "Epoch 00294: reducing learning rate of group 0 to 3.0518e-08.\n"
     ]
    },
    {
     "name": "stderr",
     "output_type": "stream",
     "text": [
      "Processing 299, best loss=inf: 100%|██████████| 300/300 [06:09<00:00,  1.23s/it]\n"
     ]
    },
    {
     "name": "stdout",
     "output_type": "stream",
     "text": [
      "final consumed budget in interval [-2.01, 2.01] is  188.18074222827528\n"
     ]
    },
    {
     "name": "stderr",
     "output_type": "stream",
     "text": [
      "Processing 21, best loss=inf:   7%|▋         | 21/300 [00:26<05:48,  1.25s/it]"
     ]
    },
    {
     "name": "stdout",
     "output_type": "stream",
     "text": [
      "Epoch 00021: reducing learning rate of group 0 to 2.5000e-04.\n"
     ]
    },
    {
     "name": "stderr",
     "output_type": "stream",
     "text": [
      "Processing 42, best loss=inf:  14%|█▍        | 42/300 [00:52<05:21,  1.25s/it]"
     ]
    },
    {
     "name": "stdout",
     "output_type": "stream",
     "text": [
      "Epoch 00042: reducing learning rate of group 0 to 1.2500e-04.\n"
     ]
    },
    {
     "name": "stderr",
     "output_type": "stream",
     "text": [
      "Processing 63, best loss=inf:  21%|██        | 63/300 [01:18<04:55,  1.25s/it]"
     ]
    },
    {
     "name": "stdout",
     "output_type": "stream",
     "text": [
      "Epoch 00063: reducing learning rate of group 0 to 6.2500e-05.\n"
     ]
    },
    {
     "name": "stderr",
     "output_type": "stream",
     "text": [
      "Processing 84, best loss=inf:  28%|██▊       | 84/300 [01:44<04:29,  1.25s/it]"
     ]
    },
    {
     "name": "stdout",
     "output_type": "stream",
     "text": [
      "Epoch 00084: reducing learning rate of group 0 to 3.1250e-05.\n"
     ]
    },
    {
     "name": "stderr",
     "output_type": "stream",
     "text": [
      "Processing 105, best loss=inf:  35%|███▌      | 105/300 [02:11<04:04,  1.25s/it]"
     ]
    },
    {
     "name": "stdout",
     "output_type": "stream",
     "text": [
      "Epoch 00105: reducing learning rate of group 0 to 1.5625e-05.\n"
     ]
    },
    {
     "name": "stderr",
     "output_type": "stream",
     "text": [
      "Processing 126, best loss=inf:  42%|████▏     | 126/300 [02:37<03:38,  1.26s/it]"
     ]
    },
    {
     "name": "stdout",
     "output_type": "stream",
     "text": [
      "Epoch 00126: reducing learning rate of group 0 to 7.8125e-06.\n"
     ]
    },
    {
     "name": "stderr",
     "output_type": "stream",
     "text": [
      "Processing 147, best loss=inf:  49%|████▉     | 147/300 [03:03<03:12,  1.26s/it]"
     ]
    },
    {
     "name": "stdout",
     "output_type": "stream",
     "text": [
      "Epoch 00147: reducing learning rate of group 0 to 3.9063e-06.\n"
     ]
    },
    {
     "name": "stderr",
     "output_type": "stream",
     "text": [
      "Processing 168, best loss=inf:  56%|█████▌    | 168/300 [03:30<02:45,  1.26s/it]"
     ]
    },
    {
     "name": "stdout",
     "output_type": "stream",
     "text": [
      "Epoch 00168: reducing learning rate of group 0 to 1.9531e-06.\n"
     ]
    },
    {
     "name": "stderr",
     "output_type": "stream",
     "text": [
      "Processing 189, best loss=inf:  63%|██████▎   | 189/300 [03:56<02:18,  1.25s/it]"
     ]
    },
    {
     "name": "stdout",
     "output_type": "stream",
     "text": [
      "Epoch 00189: reducing learning rate of group 0 to 9.7656e-07.\n"
     ]
    },
    {
     "name": "stderr",
     "output_type": "stream",
     "text": [
      "Processing 210, best loss=inf:  70%|███████   | 210/300 [04:22<01:51,  1.24s/it]"
     ]
    },
    {
     "name": "stdout",
     "output_type": "stream",
     "text": [
      "Epoch 00210: reducing learning rate of group 0 to 4.8828e-07.\n"
     ]
    },
    {
     "name": "stderr",
     "output_type": "stream",
     "text": [
      "Processing 231, best loss=inf:  77%|███████▋  | 231/300 [04:48<01:25,  1.24s/it]"
     ]
    },
    {
     "name": "stdout",
     "output_type": "stream",
     "text": [
      "Epoch 00231: reducing learning rate of group 0 to 2.4414e-07.\n"
     ]
    },
    {
     "name": "stderr",
     "output_type": "stream",
     "text": [
      "Processing 252, best loss=inf:  84%|████████▍ | 252/300 [05:15<00:59,  1.24s/it]"
     ]
    },
    {
     "name": "stdout",
     "output_type": "stream",
     "text": [
      "Epoch 00252: reducing learning rate of group 0 to 1.2207e-07.\n"
     ]
    },
    {
     "name": "stderr",
     "output_type": "stream",
     "text": [
      "Processing 269, best loss=inf:  90%|█████████ | 270/300 [05:37<00:37,  1.25s/it]\n"
     ]
    },
    {
     "ename": "KeyboardInterrupt",
     "evalue": "",
     "output_type": "error",
     "traceback": [
      "\u001b[0;31m---------------------------------------------------------------------------\u001b[0m",
      "\u001b[0;31mKeyboardInterrupt\u001b[0m                         Traceback (most recent call last)",
      "\u001b[1;32m/home/samiri/SynDG/DOFLOWS/exp_lifesci.ipynb Cell 5\u001b[0m line \u001b[0;36m1\n\u001b[1;32m    <a href='vscode-notebook-cell://ssh-remote%2B145.100.131.7/home/samiri/SynDG/DOFLOWS/exp_lifesci.ipynb#W4sdnNjb2RlLXJlbW90ZQ%3D%3D?line=189'>190</a>\u001b[0m x \u001b[39m=\u001b[39m features\u001b[39m.\u001b[39mto(device)\n\u001b[1;32m    <a href='vscode-notebook-cell://ssh-remote%2B145.100.131.7/home/samiri/SynDG/DOFLOWS/exp_lifesci.ipynb#W4sdnNjb2RlLXJlbW90ZQ%3D%3D?line=190'>191</a>\u001b[0m \u001b[39mtry\u001b[39;00m:\n\u001b[0;32m--> <a href='vscode-notebook-cell://ssh-remote%2B145.100.131.7/home/samiri/SynDG/DOFLOWS/exp_lifesci.ipynb#W4sdnNjb2RlLXJlbW90ZQ%3D%3D?line=191'>192</a>\u001b[0m     loss \u001b[39m=\u001b[39m model\u001b[39m.\u001b[39;49mforward_kld(x, robust\u001b[39m=\u001b[39;49mrbst,rmethod\u001b[39m=\u001b[39;49m\u001b[39m'\u001b[39;49m\u001b[39mmed\u001b[39;49m\u001b[39m'\u001b[39;49m,truncated\u001b[39m=\u001b[39;49m\u001b[39mTrue\u001b[39;49;00m)    \n\u001b[1;32m    <a href='vscode-notebook-cell://ssh-remote%2B145.100.131.7/home/samiri/SynDG/DOFLOWS/exp_lifesci.ipynb#W4sdnNjb2RlLXJlbW90ZQ%3D%3D?line=192'>193</a>\u001b[0m     \u001b[39mif\u001b[39;00m \u001b[39m~\u001b[39m(torch\u001b[39m.\u001b[39misnan(loss) \u001b[39m|\u001b[39m torch\u001b[39m.\u001b[39misinf(loss)):\n\u001b[1;32m    <a href='vscode-notebook-cell://ssh-remote%2B145.100.131.7/home/samiri/SynDG/DOFLOWS/exp_lifesci.ipynb#W4sdnNjb2RlLXJlbW90ZQ%3D%3D?line=193'>194</a>\u001b[0m         loss\u001b[39m.\u001b[39mbackward()\n",
      "File \u001b[0;32m~/anaconda3/envs/syndg/lib/python3.11/site-packages/normflows/core.py:122\u001b[0m, in \u001b[0;36mNormalizingFlow.forward_kld\u001b[0;34m(self, x, robust, rmethod, extended, truncated)\u001b[0m\n\u001b[1;32m    120\u001b[0m         log_q \u001b[39m+\u001b[39m\u001b[39m=\u001b[39m _ld\n\u001b[1;32m    121\u001b[0m \u001b[39mfor\u001b[39;00m i \u001b[39min\u001b[39;00m \u001b[39mrange\u001b[39m(\u001b[39mlen\u001b[39m(\u001b[39mself\u001b[39m\u001b[39m.\u001b[39mflows) \u001b[39m-\u001b[39m \u001b[39m1\u001b[39m, \u001b[39m-\u001b[39m\u001b[39m1\u001b[39m, \u001b[39m-\u001b[39m\u001b[39m1\u001b[39m):\n\u001b[0;32m--> 122\u001b[0m     z, log_det \u001b[39m=\u001b[39m \u001b[39mself\u001b[39;49m\u001b[39m.\u001b[39;49mflows[i]\u001b[39m.\u001b[39;49minverse(z)\n\u001b[1;32m    123\u001b[0m     log_q \u001b[39m+\u001b[39m\u001b[39m=\u001b[39m log_det\n\u001b[1;32m    124\u001b[0m \u001b[39mif\u001b[39;00m truncated:\n",
      "File \u001b[0;32m~/anaconda3/envs/syndg/lib/python3.11/site-packages/normflows/flows/affine/coupling.py:225\u001b[0m, in \u001b[0;36mMaskedAffineFlow.inverse\u001b[0;34m(self, z)\u001b[0m\n\u001b[1;32m    223\u001b[0m nan \u001b[39m=\u001b[39m torch\u001b[39m.\u001b[39mtensor(np\u001b[39m.\u001b[39mnan, dtype\u001b[39m=\u001b[39mz\u001b[39m.\u001b[39mdtype, device\u001b[39m=\u001b[39mz\u001b[39m.\u001b[39mdevice)\n\u001b[1;32m    224\u001b[0m scale \u001b[39m=\u001b[39m torch\u001b[39m.\u001b[39mwhere(torch\u001b[39m.\u001b[39misfinite(scale), scale, nan)\n\u001b[0;32m--> 225\u001b[0m trans \u001b[39m=\u001b[39m \u001b[39mself\u001b[39;49m\u001b[39m.\u001b[39;49mt(z_masked)\n\u001b[1;32m    226\u001b[0m trans \u001b[39m=\u001b[39m torch\u001b[39m.\u001b[39mwhere(torch\u001b[39m.\u001b[39misfinite(trans), trans, nan)\n\u001b[1;32m    227\u001b[0m z_ \u001b[39m=\u001b[39m z_masked \u001b[39m+\u001b[39m (\u001b[39m1\u001b[39m \u001b[39m-\u001b[39m \u001b[39mself\u001b[39m\u001b[39m.\u001b[39mb) \u001b[39m*\u001b[39m (z \u001b[39m-\u001b[39m trans) \u001b[39m*\u001b[39m torch\u001b[39m.\u001b[39mexp(\u001b[39m-\u001b[39mscale)\n",
      "File \u001b[0;32m~/anaconda3/envs/syndg/lib/python3.11/site-packages/torch/nn/modules/module.py:1501\u001b[0m, in \u001b[0;36mModule._call_impl\u001b[0;34m(self, *args, **kwargs)\u001b[0m\n\u001b[1;32m   1496\u001b[0m \u001b[39m# If we don't have any hooks, we want to skip the rest of the logic in\u001b[39;00m\n\u001b[1;32m   1497\u001b[0m \u001b[39m# this function, and just call forward.\u001b[39;00m\n\u001b[1;32m   1498\u001b[0m \u001b[39mif\u001b[39;00m \u001b[39mnot\u001b[39;00m (\u001b[39mself\u001b[39m\u001b[39m.\u001b[39m_backward_hooks \u001b[39mor\u001b[39;00m \u001b[39mself\u001b[39m\u001b[39m.\u001b[39m_backward_pre_hooks \u001b[39mor\u001b[39;00m \u001b[39mself\u001b[39m\u001b[39m.\u001b[39m_forward_hooks \u001b[39mor\u001b[39;00m \u001b[39mself\u001b[39m\u001b[39m.\u001b[39m_forward_pre_hooks\n\u001b[1;32m   1499\u001b[0m         \u001b[39mor\u001b[39;00m _global_backward_pre_hooks \u001b[39mor\u001b[39;00m _global_backward_hooks\n\u001b[1;32m   1500\u001b[0m         \u001b[39mor\u001b[39;00m _global_forward_hooks \u001b[39mor\u001b[39;00m _global_forward_pre_hooks):\n\u001b[0;32m-> 1501\u001b[0m     \u001b[39mreturn\u001b[39;00m forward_call(\u001b[39m*\u001b[39;49margs, \u001b[39m*\u001b[39;49m\u001b[39m*\u001b[39;49mkwargs)\n\u001b[1;32m   1502\u001b[0m \u001b[39m# Do not call functions when jit is used\u001b[39;00m\n\u001b[1;32m   1503\u001b[0m full_backward_hooks, non_full_backward_hooks \u001b[39m=\u001b[39m [], []\n",
      "File \u001b[0;32m~/anaconda3/envs/syndg/lib/python3.11/site-packages/normflows/nets/mlp.py:58\u001b[0m, in \u001b[0;36mMLP.forward\u001b[0;34m(self, x)\u001b[0m\n\u001b[1;32m     57\u001b[0m \u001b[39mdef\u001b[39;00m \u001b[39mforward\u001b[39m(\u001b[39mself\u001b[39m, x):\n\u001b[0;32m---> 58\u001b[0m     \u001b[39mreturn\u001b[39;00m \u001b[39mself\u001b[39;49m\u001b[39m.\u001b[39;49mnet(x)\n",
      "File \u001b[0;32m~/anaconda3/envs/syndg/lib/python3.11/site-packages/torch/nn/modules/module.py:1501\u001b[0m, in \u001b[0;36mModule._call_impl\u001b[0;34m(self, *args, **kwargs)\u001b[0m\n\u001b[1;32m   1496\u001b[0m \u001b[39m# If we don't have any hooks, we want to skip the rest of the logic in\u001b[39;00m\n\u001b[1;32m   1497\u001b[0m \u001b[39m# this function, and just call forward.\u001b[39;00m\n\u001b[1;32m   1498\u001b[0m \u001b[39mif\u001b[39;00m \u001b[39mnot\u001b[39;00m (\u001b[39mself\u001b[39m\u001b[39m.\u001b[39m_backward_hooks \u001b[39mor\u001b[39;00m \u001b[39mself\u001b[39m\u001b[39m.\u001b[39m_backward_pre_hooks \u001b[39mor\u001b[39;00m \u001b[39mself\u001b[39m\u001b[39m.\u001b[39m_forward_hooks \u001b[39mor\u001b[39;00m \u001b[39mself\u001b[39m\u001b[39m.\u001b[39m_forward_pre_hooks\n\u001b[1;32m   1499\u001b[0m         \u001b[39mor\u001b[39;00m _global_backward_pre_hooks \u001b[39mor\u001b[39;00m _global_backward_hooks\n\u001b[1;32m   1500\u001b[0m         \u001b[39mor\u001b[39;00m _global_forward_hooks \u001b[39mor\u001b[39;00m _global_forward_pre_hooks):\n\u001b[0;32m-> 1501\u001b[0m     \u001b[39mreturn\u001b[39;00m forward_call(\u001b[39m*\u001b[39;49margs, \u001b[39m*\u001b[39;49m\u001b[39m*\u001b[39;49mkwargs)\n\u001b[1;32m   1502\u001b[0m \u001b[39m# Do not call functions when jit is used\u001b[39;00m\n\u001b[1;32m   1503\u001b[0m full_backward_hooks, non_full_backward_hooks \u001b[39m=\u001b[39m [], []\n",
      "File \u001b[0;32m~/anaconda3/envs/syndg/lib/python3.11/site-packages/torch/nn/modules/container.py:217\u001b[0m, in \u001b[0;36mSequential.forward\u001b[0;34m(self, input)\u001b[0m\n\u001b[1;32m    215\u001b[0m \u001b[39mdef\u001b[39;00m \u001b[39mforward\u001b[39m(\u001b[39mself\u001b[39m, \u001b[39minput\u001b[39m):\n\u001b[1;32m    216\u001b[0m     \u001b[39mfor\u001b[39;00m module \u001b[39min\u001b[39;00m \u001b[39mself\u001b[39m:\n\u001b[0;32m--> 217\u001b[0m         \u001b[39minput\u001b[39m \u001b[39m=\u001b[39m module(\u001b[39minput\u001b[39;49m)\n\u001b[1;32m    218\u001b[0m     \u001b[39mreturn\u001b[39;00m \u001b[39minput\u001b[39m\n",
      "File \u001b[0;32m~/anaconda3/envs/syndg/lib/python3.11/site-packages/torch/nn/modules/module.py:1501\u001b[0m, in \u001b[0;36mModule._call_impl\u001b[0;34m(self, *args, **kwargs)\u001b[0m\n\u001b[1;32m   1496\u001b[0m \u001b[39m# If we don't have any hooks, we want to skip the rest of the logic in\u001b[39;00m\n\u001b[1;32m   1497\u001b[0m \u001b[39m# this function, and just call forward.\u001b[39;00m\n\u001b[1;32m   1498\u001b[0m \u001b[39mif\u001b[39;00m \u001b[39mnot\u001b[39;00m (\u001b[39mself\u001b[39m\u001b[39m.\u001b[39m_backward_hooks \u001b[39mor\u001b[39;00m \u001b[39mself\u001b[39m\u001b[39m.\u001b[39m_backward_pre_hooks \u001b[39mor\u001b[39;00m \u001b[39mself\u001b[39m\u001b[39m.\u001b[39m_forward_hooks \u001b[39mor\u001b[39;00m \u001b[39mself\u001b[39m\u001b[39m.\u001b[39m_forward_pre_hooks\n\u001b[1;32m   1499\u001b[0m         \u001b[39mor\u001b[39;00m _global_backward_pre_hooks \u001b[39mor\u001b[39;00m _global_backward_hooks\n\u001b[1;32m   1500\u001b[0m         \u001b[39mor\u001b[39;00m _global_forward_hooks \u001b[39mor\u001b[39;00m _global_forward_pre_hooks):\n\u001b[0;32m-> 1501\u001b[0m     \u001b[39mreturn\u001b[39;00m forward_call(\u001b[39m*\u001b[39;49margs, \u001b[39m*\u001b[39;49m\u001b[39m*\u001b[39;49mkwargs)\n\u001b[1;32m   1502\u001b[0m \u001b[39m# Do not call functions when jit is used\u001b[39;00m\n\u001b[1;32m   1503\u001b[0m full_backward_hooks, non_full_backward_hooks \u001b[39m=\u001b[39m [], []\n",
      "File \u001b[0;32m~/anaconda3/envs/syndg/lib/python3.11/site-packages/torch/nn/modules/linear.py:114\u001b[0m, in \u001b[0;36mLinear.forward\u001b[0;34m(self, input)\u001b[0m\n\u001b[1;32m    113\u001b[0m \u001b[39mdef\u001b[39;00m \u001b[39mforward\u001b[39m(\u001b[39mself\u001b[39m, \u001b[39minput\u001b[39m: Tensor) \u001b[39m-\u001b[39m\u001b[39m>\u001b[39m Tensor:\n\u001b[0;32m--> 114\u001b[0m     \u001b[39mreturn\u001b[39;00m F\u001b[39m.\u001b[39;49mlinear(\u001b[39minput\u001b[39;49m, \u001b[39mself\u001b[39;49m\u001b[39m.\u001b[39;49mweight, \u001b[39mself\u001b[39;49m\u001b[39m.\u001b[39;49mbias)\n",
      "\u001b[0;31mKeyboardInterrupt\u001b[0m: "
     ]
    }
   ],
   "source": [
    "# %%\n",
    "\n",
    "\n",
    "my_dataset = CSVDataset('/home/samiri/SynDG/DOFLOWS/lifesci.csv',categorical)\n",
    "\n",
    "categorical_qlevels = []\n",
    "vdeq_categoricals = {int(k): int(v) for k, v in zip(categorical, categorical_qlevels)}\n",
    "# Number of samples\n",
    "\n",
    "enable_cuda = True\n",
    "\n",
    "device = torch.device('cuda' if torch.cuda.is_available() and enable_cuda else 'cpu')\n",
    "\n",
    "n_sammple = my_dataset.__len__()\n",
    "# Create the 2-dimensional instance\n",
    "loss_arr = []\n",
    "tests_arr = []\n",
    "_closs = 1e10\n",
    "_stalecounter = 0\n",
    "\n",
    "nl = 40\n",
    "w = 256\n",
    "ml = 4\n",
    "lr = 5e-4\n",
    "fltyp = 'nice'\n",
    "rbst = True\n",
    "vlay = 0\n",
    "nsamp = 2048\n",
    "nmodes = 200\n",
    "rndadd = 0.5\n",
    "usestd = True\n",
    "useloc = True\n",
    "initp = 2.5\n",
    "batch_size = 2**10\n",
    "\n",
    "\n",
    "dp = 'NF'\n",
    "\n",
    "    # for w in list(reversed([64,128,192,256,378,512,768,1024,2048,4096,8192])):    \n",
    "_closs = 1e10\n",
    "torch.cuda.empty_cache()\n",
    "gc.collect()\n",
    "try:\n",
    "    del model, optimizer, flows, base\n",
    "except:\n",
    "    pass\n",
    "dataloader = DataLoader(my_dataset, batch_size=batch_size, shuffle=True)\n",
    "num_layers = nl\n",
    "flows = []\n",
    "latent_size = len(my_dataset.__getitem__(0))\n",
    "b = torch.Tensor([1 if i % 2 == 0 else 0 for i in range(latent_size)])\n",
    "flows = []\n",
    "if fltyp == 'nsp':\n",
    "    flows = nsp(K=nl,dim=latent_size, hidden_units=w, hidden_layers=ml)\n",
    "elif fltyp == 'rnvp':\n",
    "    flows = rnvp(K=nl,dim=latent_size, hidden_units=w, hidden_layers=ml)\n",
    "elif fltyp == 'residual':\n",
    "    flows = residual(K=nl,dim=latent_size, hidden_units=w, hidden_layers=ml)\n",
    "elif fltyp == 'nice':\n",
    "    flows = nice(K=nl,dim=latent_size, hidden_units=w, hidden_layers=ml)\n",
    "    \n",
    "\n",
    "trnbl = True\n",
    "# base = nf.distributions.base_extended.GeneralizedGaussianMixture(n_modes=nmodes, rand_p=True, noise_scale=rndadd, dim=latent_size,loc=list(my_dataset.data.median()) if useloc else 0.,scale=list(my_dataset.data.std()) if usestd else 1.,p=initp,device=device,trainable_loc=trnbl, trainable_scale=trnbl,trainable_p=trnbl,trainable_weights=trnbl,ds=my_dataset)\n",
    "\n",
    "#model = nf.NormalizingFlow(base, flows)\n",
    "loss_hists = np.array([])\n",
    "# optimizer = torch.optim.Adam(model.parameters(), lr=lr, weight_decay=lr/10)\n",
    "# scheduler = ReduceLROnPlateau(optimizer, mode='min', factor=0.5, patience=20, verbose=True)\n",
    "# target_epsilon = 1.0\n",
    "# if dp == 'DPSGD':\n",
    "#     sigma=get_noise_multiplier(\n",
    "#                     target_epsilon = target_epsilon,\n",
    "#                     target_delta = 1.52e-5,\n",
    "#                     sample_rate = batch_size/(len(dataloader.dataset)*0.9),\n",
    "#                     epochs = max_iter,\n",
    "#                 )\n",
    "\n",
    "#     privacy_engine = PrivacyEngine(\n",
    "#                 model,\n",
    "#                 batch_size=batch_size,\n",
    "#                 sample_size=len(dataloader.dataset)*0.9,\n",
    "#                 noise_multiplier=sigma,\n",
    "#                 epochs=max_iter,\n",
    "#                 clipping_mode='MixOpt',\n",
    "#                 origin_params=None,\n",
    "#             )\n",
    "#     privacy_engine.attach(optimizer)\n",
    "\n",
    "\n",
    "\n",
    "\n",
    "\n",
    "\n",
    "\n",
    "\n",
    "\n",
    "\n",
    "max_norm = 0.5\n",
    "adjust_rate = 0.01\n",
    "num_samples = nsamp\n",
    "show_iter = 200\n",
    "max_iter = 300\n",
    "bestloss = 1e10\n",
    "_stalecounter = 0\n",
    "pbar = tqdm(range(max_iter))\n",
    "# Prepare the data for KFold\n",
    "data = list(dataloader.dataset)\n",
    "kf = KFold(n_splits=10)\n",
    "\n",
    "# To store average log likelihood for each epoch\n",
    "avg_log_likelihoods = []\n",
    "loss_hists = []\n",
    "\n",
    "for train_index, test_index in kf.split(data):\n",
    "    # Reset the model and the best loss for each fold\n",
    "    base = nf.distributions.base.DiagGaussian(latent_size)\n",
    "    if dp == 'NF':\n",
    "        cmin = -2.01\n",
    "        cmax = 2.01    \n",
    "        \n",
    "        base = nf.distributions.base_extended.TruncatedNormal(latent_size,0.,1., cmin, cmax)\n",
    "        s = base.sample(10000)\n",
    "        pl = base.log_prob(s).exp()\n",
    "        print(f'final consumed budget in interval {[cmin,cmax]} is ', np.log(pl.max().item()/pl.min().item())*np.sqrt(max_iter))\n",
    "\n",
    "    model = nf.NormalizingFlow(base, flows,categoricals=vdeq_categoricals, vardeq_layers=vlay, vardeq_flow_type='shiftscale')\n",
    "    model = model.to(device)\n",
    "\n",
    "\n",
    "\n",
    "\n",
    "\n",
    "    loss_hist = np.array([])\n",
    "\n",
    "    log_likelihoods = []\n",
    "\n",
    "    optimizer = torch.optim.Adam(model.parameters(), lr=lr, weight_decay=lr/10)\n",
    "    scheduler = ReduceLROnPlateau(optimizer, mode='min', factor=0.5, patience=20, verbose=True)\n",
    "    target_epsilon = 1.0\n",
    "    if dp == 'DPSGD':\n",
    "        sigma=get_noise_multiplier(\n",
    "                        target_epsilon = target_epsilon,\n",
    "                        target_delta = 1.52e-5,\n",
    "                        sample_rate = batch_size/(len(dataloader.dataset)*0.9),\n",
    "                        epochs = max_iter,\n",
    "                    )\n",
    "\n",
    "        privacy_engine = PrivacyEngine(\n",
    "                    model,\n",
    "                    batch_size=batch_size,\n",
    "                    sample_size=len(dataloader.dataset)*0.9,\n",
    "                    noise_multiplier=sigma,\n",
    "                    epochs=max_iter,\n",
    "                    clipping_mode='MixOpt',\n",
    "                    origin_params=None,\n",
    "                )\n",
    "        privacy_engine.attach(optimizer)\n",
    "\n",
    "\n",
    "\n",
    "\n",
    "\n",
    "\n",
    "\n",
    "\n",
    "\n",
    "\n",
    "    max_norm = 0.5\n",
    "    adjust_rate = 0.01\n",
    "\n",
    "    best_params = copy.deepcopy(model.state_dict())\n",
    "    bestloss = 1e10\n",
    "    _stalecounter = 0\n",
    "    pbar = tqdm(range(max_iter))\n",
    "\n",
    "    \n",
    "    bestloss = float('inf')\n",
    "    best_params = copy.deepcopy(model.state_dict())\n",
    "\n",
    "    # Create dataloaders for this fold\n",
    "    train_data = [data[i] for i in train_index]\n",
    "    test_data = [data[i] for i in test_index]\n",
    "    train_dataloader = torch.utils.data.DataLoader(train_data, batch_size=batch_size)\n",
    "    test_dataloader = torch.utils.data.DataLoader(test_data, batch_size=batch_size)\n",
    "\n",
    "    for it in pbar:\n",
    "        for i, features in enumerate(train_dataloader, 0):\n",
    "            optimizer.zero_grad()\n",
    "            x = features.to(device)\n",
    "            try:\n",
    "                loss = model.forward_kld(x, robust=rbst,rmethod='med',truncated=True)    \n",
    "                if ~(torch.isnan(loss) | torch.isinf(loss)):\n",
    "                    loss.backward()\n",
    "                    optimizer.step()\n",
    "                    with torch.no_grad():\n",
    "                        if loss.item()<bestloss:\n",
    "                            _s,_ = model.sample(1000)\n",
    "                            if (torch.isnan(_s).sum()==0 & torch.isinf(_s).sum()==0):\n",
    "                            \n",
    "                                bestloss = copy.deepcopy(loss.item())\n",
    "                                best_params = copy.deepcopy(model.state_dict())\n",
    "                                pbar.set_description(f\"Processing {it}, best loss={bestloss}\")\n",
    "                loss_hist = np.append(loss_hist, loss.to('cpu').data.numpy())\n",
    "                pbar.set_description(f\"Processing {it}, best loss={bestloss}\")\n",
    "            except Exception as e:\n",
    "                if True:\n",
    "                    #print(e)\n",
    "                    with torch.no_grad():\n",
    "                        model.load_state_dict(best_params)\n",
    "        \n",
    "\n",
    "        # with torch.no_grad():\n",
    "        #     model.eval()\n",
    "        #     ds_gn = model.sample(len(my_dataset.data))[0].detach().cpu().numpy()\n",
    "        #     ds_gn = pd.DataFrame(ds_gn, columns=my_dataset.data.columns)\n",
    "        #     ds_gn.replace([np.inf, -np.inf], np.nan, inplace=True)\n",
    "        #     ds_gn.dropna(inplace=True)\n",
    "        #     ds_gn.dropna(axis=1, inplace=True)\n",
    "        #     ds_gn.dropna(inplace=True)\n",
    "        #     dict_dtype = my_dataset.data.dtypes.apply(lambda x: x.name).to_dict()\n",
    "        #     ds_gn = ds_gn.astype(dict_dtype)\n",
    "\n",
    "        #     ds_gn.to_csv(f'/home/samiri/SynDG/DOFLOWS/lifesci_{dp}_{nl}_{w}_{ml}_{lr}_{fltyp}_{rbst}_{vlay}_{nsamp}_{nmodes}_{rndadd}_{useloc}_{usestd}_{initp}.csv')\n",
    "        #     my_dataset.data.to_csv(f'/home/samiri/SynDG/DOFLOWS/lifesci_gen.csv')\n",
    "        #     nan_or_inf_df = ds_gn.isna() | np.isinf(ds_gn)\n",
    "\n",
    "        #     # Assuming real_data and synthetic_data are your dataframes\n",
    "        #     feature_names = my_dataset.data.columns\n",
    "\n",
    "        #     # List of categorical features\n",
    "        #     categorical_features = []\n",
    "\n",
    "        #     fig, axs = plt.subplots(2, 5, figsize=(20, 5))\n",
    "\n",
    "        #     for i, ax in enumerate(axs.flatten()):\n",
    "        #         if i < len(feature_names):\n",
    "        #             feature_name = feature_names[i]\n",
    "\n",
    "        #             # If the feature is categorical\n",
    "        #             if i in categorical_features:\n",
    "        #                 real_counts = my_dataset.data[feature_name].value_counts()\n",
    "        #                 synthetic_counts = ds_gn[feature_name].value_counts()\n",
    "        #                 all_categories = list(set(real_counts.index) | set(synthetic_counts.index))\n",
    "                        \n",
    "        #                 ax.bar(all_categories, [real_counts.get(category, 0) for category in all_categories], color='blue', alpha=0.5, label='Real')\n",
    "        #                 ax.bar(all_categories, [synthetic_counts.get(category, 0) for category in all_categories], color='red', alpha=0.5, label='Synthetic')\n",
    "        #             else:\n",
    "        #                 sns.kdeplot(my_dataset.data[feature_name], ax=ax, color='blue', label='Real')\n",
    "        #                 sns.kdeplot(ds_gn[feature_name], ax=ax, color='red', label='Synthetic')\n",
    "\n",
    "        #             ax.set_title(feature_name)\n",
    "        #             ax.legend()\n",
    "        #     fig.suptitle(f'Fold {it}', fontsize=15)            \n",
    "        #     plt.tight_layout()\n",
    "        #     plt.show()\n",
    "        #     model.train()  \n",
    "        #     del ds_gn\n",
    "        torch.cuda.empty_cache()\n",
    "        gc.collect()\n",
    "\n",
    "        scheduler.step(bestloss)\n",
    "        pbar.set_description(f\"Processing {it}, best loss={bestloss}\")\n",
    "        try:\n",
    "            with torch.no_grad():\n",
    "                model.eval()\n",
    "                total_log_likelihood = 0\n",
    "                for i, features in enumerate(test_dataloader, 0):\n",
    "                    x = features.to(device)\n",
    "                    total_log_likelihood += model.forward_kld(x, robust=rbst,rmethod='med',truncated=True)*len(x)    \n",
    "                avg_log_likelihood = total_log_likelihood / len(test_data)\n",
    "                log_likelihoods.append(avg_log_likelihood.item())        \n",
    "                model.train()\n",
    "        except:\n",
    "            pass\n",
    "    avg_log_likelihoods.append(log_likelihoods)     \n",
    "    loss_hists.append(loss_hist)   \n",
    "        \n",
    "del optimizer,scheduler,dataloader,flows    \n",
    "torch.cuda.empty_cache()\n",
    "gc.collect()\n",
    "\n",
    "loss_arr.append([nl,w,bestloss])\n",
    "torch.cuda.empty_cache()\n",
    "gc.collect()\n",
    "\n",
    "# torch.save(model,f'/home/samiri/SynDG/DOFLOWS/lifesci_{dp}_{nl}_{w}_{ml}_{lr}_{fltyp}_{rbst}_{vlay}_{nsamp}_{nmodes}_{rndadd}_{useloc}_{usestd}_{initp}.pt')\n",
    "# with torch.no_grad():\n",
    "#     model.eval()\n",
    "\n",
    "#     ds_gn = model.sample(len(my_dataset.data))[0].detach().cpu().numpy()\n",
    "\n",
    "\n",
    "# #    del model\n",
    "#     ds_gn = pd.DataFrame(ds_gn, columns=my_dataset.data.columns)\n",
    "#     ds_gn.replace([np.inf, -np.inf], np.nan, inplace=True)\n",
    "#     ds_gn.dropna(inplace=True)\n",
    "#     ds_gn.dropna(axis=1, inplace=True)\n",
    "#     ds_gn.dropna(inplace=True)\n",
    "#     dict_dtype = my_dataset.data.dtypes.apply(lambda x: x.name).to_dict()\n",
    "#     ds_gn = ds_gn.astype(dict_dtype)\n",
    "\n",
    "#     ds_gn.to_csv(f'/home/samiri/SynDG/DOFLOWS/lifesci_{dp}_{nl}_{w}_{ml}_{lr}_{fltyp}_{rbst}_{vlay}_{nsamp}_{nmodes}_{rndadd}_{useloc}_{usestd}_{initp}.csv')\n",
    "#     my_dataset.data.to_csv(f'/home/samiri/SynDG/DOFLOWS/lifesci_gen.csv')\n",
    "#     nan_or_inf_df = ds_gn.isna() | np.isinf(ds_gn)\n",
    "\n",
    "#     # Assuming real_data and synthetic_data are your dataframes\n",
    "#     feature_names = my_dataset.data.columns\n",
    "\n",
    "#     # List of categorical features\n",
    "#     categorical_features = []\n",
    "\n",
    "#     fig, axs = plt.subplots(2, 5, figsize=(10, 20))\n",
    "\n",
    "#     for i, ax in enumerate(axs.flatten()):\n",
    "#         if i < len(feature_names):\n",
    "#             feature_name = feature_names[i]\n",
    "\n",
    "#             # If the feature is categorical\n",
    "#             if i in categorical_features:\n",
    "#                 real_counts = my_dataset.data[feature_name].value_counts()\n",
    "#                 synthetic_counts = ds_gn[feature_name].value_counts()\n",
    "#                 all_categories = list(set(real_counts.index) | set(synthetic_counts.index))\n",
    "                \n",
    "#                 ax.bar(all_categories, [real_counts.get(category, 0) for category in all_categories], color='blue', alpha=0.5, label='Real')\n",
    "#                 ax.bar(all_categories, [synthetic_counts.get(category, 0) for category in all_categories], color='red', alpha=0.5, label='Synthetic')\n",
    "#             else:\n",
    "#                 sns.kdeplot(my_dataset.data[feature_name], ax=ax, color='blue', label='Real')\n",
    "#                 sns.kdeplot(ds_gn[feature_name], ax=ax, color='red', label='Synthetic')\n",
    "\n",
    "#             ax.set_title(feature_name)\n",
    "#             ax.legend()\n",
    "\n",
    "#     plt.tight_layout()\n",
    "#     plt.show()\n",
    "#     model.train()\n",
    "\n",
    "# plt.savefig(f'/home/samiri/SynDG/DOFLOWS/lifesci_{dp}_{nl}_{w}_{ml}_{lr}_{fltyp}_{rbst}_{vlay}_{nsamp}_{nmodes}_{rndadd}_{useloc}_{usestd}_{initp}.png')\n",
    "# del ds_gn\n",
    "# torch.cuda.empty_cache()\n",
    "# gc.collect()\n",
    "# torch.cuda.empty_cache()\n",
    "# gc.collect()\n",
    "# torch.cuda.empty_cache()\n",
    "# gc.collect()\n",
    "\n",
    "\n"
   ]
  },
  {
   "cell_type": "code",
   "execution_count": 5,
   "metadata": {},
   "outputs": [
    {
     "data": {
      "image/png": "[encoded data removed]",
      "text/plain": [
       "<Figure size 1000x600 with 1 Axes>"
      ]
     },
     "metadata": {},
     "output_type": "display_data"
    }
   ],
   "source": [
    "df = pd.DataFrame(loss_hists).T\n",
    "df = pd.DataFrame(avg_log_likelihoods).T\n",
    "\n",
    "import pandas as pd\n",
    "import matplotlib.pyplot as plt\n",
    "import numpy as np\n",
    "\n",
    "# assuming df is your DataFrame where rows represent measurements and columns represent experiments\n",
    "\n",
    "# Calculate the mean and standard error for each measurement across all experiments\n",
    "mean = df.mean(axis=1)\n",
    "std_error = df.sem(axis=1)\n",
    "\n",
    "# Create a figure\n",
    "plt.figure(figsize=(10, 6))\n",
    "\n",
    "# Plot the mean line\n",
    "plt.plot(mean.index, mean.values, color='blue', label='Mean')\n",
    "\n",
    "# Add the shaded region representing the standard error\n",
    "plt.fill_between(mean.index, mean.values - std_error, mean.values + std_error, color='blue', alpha=0.2)\n",
    "\n",
    "# Set the title and labels\n",
    "plt.title('Mean and Standard Error of Measurements')\n",
    "plt.xlabel('Measurement')\n",
    "plt.ylabel('Values')\n",
    "plt.legend()\n",
    "\n",
    "# Show the plot\n",
    "plt.show()"
   ]
  }
 ],
 "metadata": {
  "kernelspec": {
   "display_name": "syndg",
   "language": "python",
   "name": "python3"
  },
  "language_info": {
   "codemirror_mode": {
    "name": "ipython",
    "version": 3
   },
   "file_extension": ".py",
   "mimetype": "text/x-python",
   "name": "python",
   "nbconvert_exporter": "python",
   "pygments_lexer": "ipython3",
   "version": "3.11.5"
  }
 },
 "nbformat": 4,
 "nbformat_minor": 2
}
